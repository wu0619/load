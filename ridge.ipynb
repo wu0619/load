{
 "cells": [
  {
   "cell_type": "code",
   "execution_count": 14,
   "metadata": {},
   "outputs": [],
   "source": [
    "import numpy as np \n",
    "import pandas as pd \n",
    "import matplotlib.pyplot as plt \n",
    "import tensorflow as tf\n",
    "import os\n",
    "import math\n",
    "from sklearn.preprocessing import MinMaxScaler\n",
    "from sklearn.metrics import mean_squared_error, mean_absolute_error, mean_absolute_percentage_error\n",
    "from sklearn.model_selection import train_test_split\n",
    "from sklearn.multioutput import MultiOutputRegressor\n",
    "from sklearn.linear_model import Ridge\n",
    "from sklearn.model_selection import RandomizedSearchCV\n",
    "from scipy.stats import randint, uniform, expon, reciprocal"
   ]
  },
  {
   "cell_type": "code",
   "execution_count": 15,
   "metadata": {},
   "outputs": [],
   "source": [
    "# dirs\n",
    "DATA_DIR = \"./load.csv\"\n",
    "TEST_PLOT_DIR = \"./test_plots/ridge/\"\n",
    "TRAINING_HISTORY_DIR = \"./training_history/ridge.png\""
   ]
  },
  {
   "cell_type": "code",
   "execution_count": 16,
   "metadata": {},
   "outputs": [],
   "source": [
    "if not os.path.exists(TEST_PLOT_DIR):\n",
    "    os.makedirs(TEST_PLOT_DIR)\n",
    "if not os.path.exists(\"./model\"):\n",
    "    os.makedirs(\"./model\")\n",
    "if not os.path.exists(\"./training_history\"):\n",
    "    os.makedirs(\"./training_history\")"
   ]
  },
  {
   "cell_type": "code",
   "execution_count": 17,
   "metadata": {},
   "outputs": [
    {
     "name": "stdout",
     "output_type": "stream",
     "text": [
      "[[0.4454918 ]\n",
      " [0.42704918]\n",
      " [0.4454918 ]\n",
      " ...\n",
      " [0.36557377]\n",
      " [0.33729508]\n",
      " [0.25368852]]\n"
     ]
    }
   ],
   "source": [
    "data = pd.read_csv(DATA_DIR)\n",
    "maxValue = np.max(data['Load'])\n",
    "scaler = MinMaxScaler()\n",
    "data_scaled = scaler.fit_transform(data['Load'].to_numpy().reshape(-1, 1))\n",
    "print(data_scaled)\n",
    "data['Load'] = data_scaled.reshape(-1, 1)\n",
    "\n",
    "# Convert the 'date' column to datetime format\n",
    "data['Timestamp'] = pd.to_datetime(data['Timestamp'], format='%Y/%m/%d %H:%M')\n",
    "\n",
    "# Sort the data by date\n",
    "groups = data.groupby(pd.Grouper(key='Timestamp', freq='D'))"
   ]
  },
  {
   "cell_type": "code",
   "execution_count": 18,
   "metadata": {},
   "outputs": [],
   "source": [
    "train_df = []\n",
    "for date, data in groups:\n",
    "    train_df.append(list(data[\"Load\"]))\n",
    "train_df = np.array(train_df)"
   ]
  },
  {
   "cell_type": "code",
   "execution_count": 19,
   "metadata": {},
   "outputs": [
    {
     "data": {
      "text/plain": [
       "array([[0.4454918 , 0.42704918, 0.4454918 , ..., 0.37622951, 0.35942623,\n",
       "        0.39508197],\n",
       "       [0.29672131, 0.27581967, 0.41188525, ..., 0.2795082 , 0.31147541,\n",
       "        0.29795082],\n",
       "       [0.32704918, 0.32704918, 0.29795082, ..., 0.29139344, 0.3       ,\n",
       "        0.31393443],\n",
       "       ...,\n",
       "       [0.26803279, 0.38032787, 0.2647541 , ..., 0.36557377, 0.33729508,\n",
       "        0.25368852],\n",
       "       [0.26803279, 0.38032787, 0.2647541 , ..., 0.36557377, 0.33729508,\n",
       "        0.25368852],\n",
       "       [0.26803279, 0.38032787, 0.2647541 , ..., 0.36557377, 0.33729508,\n",
       "        0.25368852]])"
      ]
     },
     "metadata": {},
     "output_type": "display_data"
    }
   ],
   "source": [
    "display(train_df)"
   ]
  },
  {
   "cell_type": "code",
   "execution_count": 20,
   "metadata": {},
   "outputs": [],
   "source": [
    "def create_dataset(data):\n",
    "    X, y = [], []\n",
    "    for i in range(9, len(data) - 1):\n",
    "        last_two_days = data[i-2:i].flatten()\n",
    "        last_week_same_days = data[i-7-2:i-7].flatten()\n",
    "\n",
    "        input_data = np.concatenate([last_two_days, last_week_same_days])\n",
    "        X.append(input_data)\n",
    "\n",
    "        next_day = data[i+1]\n",
    "        y.append(next_day)\n",
    "\n",
    "    return np.array(X), np.array(y)"
   ]
  },
  {
   "cell_type": "code",
   "execution_count": 21,
   "metadata": {},
   "outputs": [
    {
     "name": "stdout",
     "output_type": "stream",
     "text": [
      "X shape: (355, 384)\n",
      "y shape: (355, 96)\n"
     ]
    }
   ],
   "source": [
    "X, y = create_dataset(train_df)\n",
    "print(f'X shape: {X.shape}')\n",
    "print(f'y shape: {y.shape}')"
   ]
  },
  {
   "cell_type": "code",
   "execution_count": 22,
   "metadata": {},
   "outputs": [],
   "source": [
    "X_train, X_test, y_train, y_test = train_test_split(X, y, test_size=0.15, random_state=42)"
   ]
  },
  {
   "cell_type": "code",
   "execution_count": 23,
   "metadata": {},
   "outputs": [
    {
     "data": {
      "text/html": [
       "<style>#sk-container-id-2 {color: black;}#sk-container-id-2 pre{padding: 0;}#sk-container-id-2 div.sk-toggleable {background-color: white;}#sk-container-id-2 label.sk-toggleable__label {cursor: pointer;display: block;width: 100%;margin-bottom: 0;padding: 0.3em;box-sizing: border-box;text-align: center;}#sk-container-id-2 label.sk-toggleable__label-arrow:before {content: \"▸\";float: left;margin-right: 0.25em;color: #696969;}#sk-container-id-2 label.sk-toggleable__label-arrow:hover:before {color: black;}#sk-container-id-2 div.sk-estimator:hover label.sk-toggleable__label-arrow:before {color: black;}#sk-container-id-2 div.sk-toggleable__content {max-height: 0;max-width: 0;overflow: hidden;text-align: left;background-color: #f0f8ff;}#sk-container-id-2 div.sk-toggleable__content pre {margin: 0.2em;color: black;border-radius: 0.25em;background-color: #f0f8ff;}#sk-container-id-2 input.sk-toggleable__control:checked~div.sk-toggleable__content {max-height: 200px;max-width: 100%;overflow: auto;}#sk-container-id-2 input.sk-toggleable__control:checked~label.sk-toggleable__label-arrow:before {content: \"▾\";}#sk-container-id-2 div.sk-estimator input.sk-toggleable__control:checked~label.sk-toggleable__label {background-color: #d4ebff;}#sk-container-id-2 div.sk-label input.sk-toggleable__control:checked~label.sk-toggleable__label {background-color: #d4ebff;}#sk-container-id-2 input.sk-hidden--visually {border: 0;clip: rect(1px 1px 1px 1px);clip: rect(1px, 1px, 1px, 1px);height: 1px;margin: -1px;overflow: hidden;padding: 0;position: absolute;width: 1px;}#sk-container-id-2 div.sk-estimator {font-family: monospace;background-color: #f0f8ff;border: 1px dotted black;border-radius: 0.25em;box-sizing: border-box;margin-bottom: 0.5em;}#sk-container-id-2 div.sk-estimator:hover {background-color: #d4ebff;}#sk-container-id-2 div.sk-parallel-item::after {content: \"\";width: 100%;border-bottom: 1px solid gray;flex-grow: 1;}#sk-container-id-2 div.sk-label:hover label.sk-toggleable__label {background-color: #d4ebff;}#sk-container-id-2 div.sk-serial::before {content: \"\";position: absolute;border-left: 1px solid gray;box-sizing: border-box;top: 0;bottom: 0;left: 50%;z-index: 0;}#sk-container-id-2 div.sk-serial {display: flex;flex-direction: column;align-items: center;background-color: white;padding-right: 0.2em;padding-left: 0.2em;position: relative;}#sk-container-id-2 div.sk-item {position: relative;z-index: 1;}#sk-container-id-2 div.sk-parallel {display: flex;align-items: stretch;justify-content: center;background-color: white;position: relative;}#sk-container-id-2 div.sk-item::before, #sk-container-id-2 div.sk-parallel-item::before {content: \"\";position: absolute;border-left: 1px solid gray;box-sizing: border-box;top: 0;bottom: 0;left: 50%;z-index: -1;}#sk-container-id-2 div.sk-parallel-item {display: flex;flex-direction: column;z-index: 1;position: relative;background-color: white;}#sk-container-id-2 div.sk-parallel-item:first-child::after {align-self: flex-end;width: 50%;}#sk-container-id-2 div.sk-parallel-item:last-child::after {align-self: flex-start;width: 50%;}#sk-container-id-2 div.sk-parallel-item:only-child::after {width: 0;}#sk-container-id-2 div.sk-dashed-wrapped {border: 1px dashed gray;margin: 0 0.4em 0.5em 0.4em;box-sizing: border-box;padding-bottom: 0.4em;background-color: white;}#sk-container-id-2 div.sk-label label {font-family: monospace;font-weight: bold;display: inline-block;line-height: 1.2em;}#sk-container-id-2 div.sk-label-container {text-align: center;}#sk-container-id-2 div.sk-container {/* jupyter's `normalize.less` sets `[hidden] { display: none; }` but bootstrap.min.css set `[hidden] { display: none !important; }` so we also need the `!important` here to be able to override the default hidden behavior on the sphinx rendered scikit-learn.org. See: https://github.com/scikit-learn/scikit-learn/issues/21755 */display: inline-block !important;position: relative;}#sk-container-id-2 div.sk-text-repr-fallback {display: none;}</style><div id=\"sk-container-id-2\" class=\"sk-top-container\"><div class=\"sk-text-repr-fallback\"><pre>Ridge()</pre><b>In a Jupyter environment, please rerun this cell to show the HTML representation or trust the notebook. <br />On GitHub, the HTML representation is unable to render, please try loading this page with nbviewer.org.</b></div><div class=\"sk-container\" hidden><div class=\"sk-item\"><div class=\"sk-estimator sk-toggleable\"><input class=\"sk-toggleable__control sk-hidden--visually\" id=\"sk-estimator-id-2\" type=\"checkbox\" checked><label for=\"sk-estimator-id-2\" class=\"sk-toggleable__label sk-toggleable__label-arrow\">Ridge</label><div class=\"sk-toggleable__content\"><pre>Ridge()</pre></div></div></div></div></div>"
      ],
      "text/plain": [
       "Ridge()"
      ]
     },
     "execution_count": 23,
     "metadata": {},
     "output_type": "execute_result"
    }
   ],
   "source": [
    "ridge = Ridge()\n",
    "# multioutput_ard = MultiOutputRegressor(ard, n_jobs=-1)\n",
    "ridge.fit(X_train, y_train)"
   ]
  },
  {
   "cell_type": "code",
   "execution_count": 24,
   "metadata": {},
   "outputs": [],
   "source": [
    "# param_dist = {\n",
    "#     'estimator__C': reciprocal(0.1, 100),\n",
    "#     'estimator__epsilon': expon(scale=0.1)\n",
    "# }\n",
    "\n",
    "# svr0 = SVR(kernel='rbf')\n",
    "# multioutput_svr0 = MultiOutputRegressor(svr0)\n",
    "# random_search0 = RandomizedSearchCV(estimator=multioutput_svr0, param_distributions=param_dist, n_iter=500, cv=4, verbose=2, random_state=42, n_jobs=-1)\n",
    "# random_search0.fit(X_train, X_train)\n",
    "\n",
    "# print(\"\\nrandom_search0 Best parameters:\", random_search0.best_params_)\n",
    "# print(\"random_search0 Best score:\", random_search0.best_score_)\n",
    "\n",
    "\n",
    "# random_search0 Best parameters: {'estimator__C': 25.61889217260502, 'estimator__epsilon': 0.0004642784066342885}\n",
    "# random_search0 Best score: 0.8593395722336404"
   ]
  },
  {
   "cell_type": "code",
   "execution_count": 25,
   "metadata": {},
   "outputs": [
    {
     "data": {
      "text/plain": [
       "(54, 384)"
      ]
     },
     "metadata": {},
     "output_type": "display_data"
    },
    {
     "data": {
      "text/plain": [
       "(54, 96)"
      ]
     },
     "metadata": {},
     "output_type": "display_data"
    }
   ],
   "source": [
    "testing_data = pd.read_csv(\"test_load_data.csv\", index_col=0)\n",
    "\n",
    "X_test = testing_data.iloc[:, :384].to_numpy()\n",
    "y_test = testing_data.iloc[:, 384:].to_numpy()\n",
    "display(X_test.shape)\n",
    "display(y_test.shape)"
   ]
  },
  {
   "cell_type": "code",
   "execution_count": 26,
   "metadata": {},
   "outputs": [
    {
     "name": "stdout",
     "output_type": "stream",
     "text": [
      "--------------------------------------------------------------------------------------\n",
      "mse: 0.0087\n",
      "rmse: 0.0933\n",
      "mae: 0.0651\n",
      "mape: 0.1763\n",
      "--------------------------------------------------------------------------------------\n"
     ]
    }
   ],
   "source": [
    "y_pred = ridge.predict(X_test)\n",
    "\n",
    "mse = mean_squared_error(y_test, y_pred)\n",
    "rmse = math.sqrt(mse)\n",
    "mae = mean_absolute_error(y_test, y_pred)\n",
    "mape = mean_absolute_percentage_error(y_test, y_pred)\n",
    "\n",
    "print(\"-\" * 86)\n",
    "print(f'mse: {mse:.4f}')\n",
    "print(f'rmse: {rmse:.4f}')\n",
    "print(f'mae: {mae:.4f}')\n",
    "print(f'mape: {mape:.4f}')\n",
    "print(\"-\" * 86)\n",
    "\n",
    "pred_data = scaler.inverse_transform(y_pred)\n",
    "actual_data = scaler.inverse_transform(y_test)\n",
    "\n",
    "for i in range(actual_data.shape[0]):\n",
    "    plt.figure(figsize=(16, 6))\n",
    "    X = np.arange(1, actual_data.shape[1]+1, 1)\n",
    "    y_p = pred_data[i]\n",
    "    y_a = actual_data[i]\n",
    "    e = mean_squared_error(y_p, y_a)\n",
    "    plt.title(f\"ARD Day {i+1} Prediction\")\n",
    "    plt.plot(X, y_p, label='Predict')\n",
    "    plt.plot(X, y_a, label='Actual')\n",
    "    plt.ylim(0, 30)\n",
    "    plt.xlabel('Time step')\n",
    "    plt.ylabel('Usage (kWh)')\n",
    "    plt.legend()\n",
    "    plt.savefig(TEST_PLOT_DIR+f\"Day{i+1}.png\")\n",
    "    plt.close()"
   ]
  }
 ],
 "metadata": {
  "kernelspec": {
   "display_name": "tf",
   "language": "python",
   "name": "python3"
  },
  "language_info": {
   "codemirror_mode": {
    "name": "ipython",
    "version": 3
   },
   "file_extension": ".py",
   "mimetype": "text/x-python",
   "name": "python",
   "nbconvert_exporter": "python",
   "pygments_lexer": "ipython3",
   "version": "3.11.8"
  }
 },
 "nbformat": 4,
 "nbformat_minor": 2
}
