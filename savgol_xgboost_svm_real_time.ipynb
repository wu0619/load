{
 "cells": [
  {
   "cell_type": "code",
   "execution_count": 225,
   "metadata": {},
   "outputs": [],
   "source": [
    "import numpy as np\n",
    "import pandas as pd\n",
    "import matplotlib.pyplot as plt\n",
    "import xgboost as xgb\n",
    "import os\n",
    "from pandas.tseries.offsets import DateOffset\n",
    "from scipy.signal import savgol_filter\n",
    "from sklearn.svm import SVR\n",
    "from sklearn.preprocessing import MinMaxScaler\n",
    "from sklearn.metrics import mean_squared_error\n",
    "from sklearn.model_selection import train_test_split\n",
    "from sklearn.multioutput import MultiOutputRegressor\n",
    "from sklearn.model_selection import RandomizedSearchCV\n",
    "from scipy.stats import randint, uniform, expon, reciprocal"
   ]
  },
  {
   "cell_type": "code",
   "execution_count": 226,
   "metadata": {},
   "outputs": [],
   "source": [
    "# dirs\n",
    "DATA_DIR = \"./load.csv\"\n",
    "TEST_PLOT_DIR = \"./test_plots/savgol_xgboost_svm_real_time/\""
   ]
  },
  {
   "cell_type": "code",
   "execution_count": 227,
   "metadata": {},
   "outputs": [],
   "source": [
    "N_INPUT = 96\n",
    "N_OUTPUT = 10"
   ]
  },
  {
   "cell_type": "code",
   "execution_count": 228,
   "metadata": {},
   "outputs": [],
   "source": [
    "if not os.path.exists(TEST_PLOT_DIR):\n",
    "    os.makedirs(TEST_PLOT_DIR)\n",
    "if not os.path.exists(\"./model\"):\n",
    "    os.makedirs(\"./model\")\n",
    "if not os.path.exists(\"./training_history\"):\n",
    "    os.makedirs(\"./training_history\")"
   ]
  },
  {
   "cell_type": "code",
   "execution_count": 229,
   "metadata": {},
   "outputs": [],
   "source": [
    "data = pd.read_csv(DATA_DIR)\n",
    "data['Timestamp'] = pd.to_datetime(data['Timestamp'], format='%Y/%m/%d %H:%M')"
   ]
  },
  {
   "cell_type": "code",
   "execution_count": 230,
   "metadata": {},
   "outputs": [
    {
     "data": {
      "text/html": [
       "<div>\n",
       "<style scoped>\n",
       "    .dataframe tbody tr th:only-of-type {\n",
       "        vertical-align: middle;\n",
       "    }\n",
       "\n",
       "    .dataframe tbody tr th {\n",
       "        vertical-align: top;\n",
       "    }\n",
       "\n",
       "    .dataframe thead th {\n",
       "        text-align: right;\n",
       "    }\n",
       "</style>\n",
       "<table border=\"1\" class=\"dataframe\">\n",
       "  <thead>\n",
       "    <tr style=\"text-align: right;\">\n",
       "      <th></th>\n",
       "      <th>Timestamp</th>\n",
       "      <th>Load</th>\n",
       "    </tr>\n",
       "  </thead>\n",
       "  <tbody>\n",
       "    <tr>\n",
       "      <th>count</th>\n",
       "      <td>35040</td>\n",
       "      <td>35040.000000</td>\n",
       "    </tr>\n",
       "    <tr>\n",
       "      <th>mean</th>\n",
       "      <td>2023-07-02 11:52:30</td>\n",
       "      <td>8.877887</td>\n",
       "    </tr>\n",
       "    <tr>\n",
       "      <th>min</th>\n",
       "      <td>2023-01-01 00:00:00</td>\n",
       "      <td>0.020000</td>\n",
       "    </tr>\n",
       "    <tr>\n",
       "      <th>25%</th>\n",
       "      <td>2023-04-02 05:56:15</td>\n",
       "      <td>6.380000</td>\n",
       "    </tr>\n",
       "    <tr>\n",
       "      <th>50%</th>\n",
       "      <td>2023-07-02 11:52:30</td>\n",
       "      <td>7.820000</td>\n",
       "    </tr>\n",
       "    <tr>\n",
       "      <th>75%</th>\n",
       "      <td>2023-10-01 17:48:45</td>\n",
       "      <td>10.160000</td>\n",
       "    </tr>\n",
       "    <tr>\n",
       "      <th>max</th>\n",
       "      <td>2023-12-31 23:45:00</td>\n",
       "      <td>24.420000</td>\n",
       "    </tr>\n",
       "    <tr>\n",
       "      <th>std</th>\n",
       "      <td>NaN</td>\n",
       "      <td>3.543193</td>\n",
       "    </tr>\n",
       "  </tbody>\n",
       "</table>\n",
       "</div>"
      ],
      "text/plain": [
       "                 Timestamp          Load\n",
       "count                35040  35040.000000\n",
       "mean   2023-07-02 11:52:30      8.877887\n",
       "min    2023-01-01 00:00:00      0.020000\n",
       "25%    2023-04-02 05:56:15      6.380000\n",
       "50%    2023-07-02 11:52:30      7.820000\n",
       "75%    2023-10-01 17:48:45     10.160000\n",
       "max    2023-12-31 23:45:00     24.420000\n",
       "std                    NaN      3.543193"
      ]
     },
     "execution_count": 230,
     "metadata": {},
     "output_type": "execute_result"
    }
   ],
   "source": [
    "data.describe()"
   ]
  },
  {
   "cell_type": "code",
   "execution_count": 231,
   "metadata": {},
   "outputs": [],
   "source": [
    "maxValue = np.max(data['Load'])\n",
    "\n",
    "# scaler\n",
    "scaler = MinMaxScaler()\n",
    "data_scaled = scaler.fit_transform(data['Load'].to_numpy().reshape(-1, 1))\n",
    "data['Load'] = data_scaled"
   ]
  },
  {
   "cell_type": "code",
   "execution_count": 232,
   "metadata": {},
   "outputs": [
    {
     "data": {
      "text/html": [
       "<div>\n",
       "<style scoped>\n",
       "    .dataframe tbody tr th:only-of-type {\n",
       "        vertical-align: middle;\n",
       "    }\n",
       "\n",
       "    .dataframe tbody tr th {\n",
       "        vertical-align: top;\n",
       "    }\n",
       "\n",
       "    .dataframe thead th {\n",
       "        text-align: right;\n",
       "    }\n",
       "</style>\n",
       "<table border=\"1\" class=\"dataframe\">\n",
       "  <thead>\n",
       "    <tr style=\"text-align: right;\">\n",
       "      <th></th>\n",
       "      <th>Timestamp</th>\n",
       "      <th>Load</th>\n",
       "    </tr>\n",
       "  </thead>\n",
       "  <tbody>\n",
       "    <tr>\n",
       "      <th>0</th>\n",
       "      <td>2023-01-01 00:00:00</td>\n",
       "      <td>0.445492</td>\n",
       "    </tr>\n",
       "    <tr>\n",
       "      <th>1</th>\n",
       "      <td>2023-01-01 00:15:00</td>\n",
       "      <td>0.427049</td>\n",
       "    </tr>\n",
       "    <tr>\n",
       "      <th>2</th>\n",
       "      <td>2023-01-01 00:30:00</td>\n",
       "      <td>0.445492</td>\n",
       "    </tr>\n",
       "    <tr>\n",
       "      <th>3</th>\n",
       "      <td>2023-01-01 00:45:00</td>\n",
       "      <td>0.420902</td>\n",
       "    </tr>\n",
       "    <tr>\n",
       "      <th>4</th>\n",
       "      <td>2023-01-01 01:00:00</td>\n",
       "      <td>0.422951</td>\n",
       "    </tr>\n",
       "    <tr>\n",
       "      <th>...</th>\n",
       "      <td>...</td>\n",
       "      <td>...</td>\n",
       "    </tr>\n",
       "    <tr>\n",
       "      <th>35035</th>\n",
       "      <td>2023-12-31 22:45:00</td>\n",
       "      <td>0.331148</td>\n",
       "    </tr>\n",
       "    <tr>\n",
       "      <th>35036</th>\n",
       "      <td>2023-12-31 23:00:00</td>\n",
       "      <td>0.270492</td>\n",
       "    </tr>\n",
       "    <tr>\n",
       "      <th>35037</th>\n",
       "      <td>2023-12-31 23:15:00</td>\n",
       "      <td>0.365574</td>\n",
       "    </tr>\n",
       "    <tr>\n",
       "      <th>35038</th>\n",
       "      <td>2023-12-31 23:30:00</td>\n",
       "      <td>0.337295</td>\n",
       "    </tr>\n",
       "    <tr>\n",
       "      <th>35039</th>\n",
       "      <td>2023-12-31 23:45:00</td>\n",
       "      <td>0.253689</td>\n",
       "    </tr>\n",
       "  </tbody>\n",
       "</table>\n",
       "<p>35040 rows × 2 columns</p>\n",
       "</div>"
      ],
      "text/plain": [
       "                Timestamp      Load\n",
       "0     2023-01-01 00:00:00  0.445492\n",
       "1     2023-01-01 00:15:00  0.427049\n",
       "2     2023-01-01 00:30:00  0.445492\n",
       "3     2023-01-01 00:45:00  0.420902\n",
       "4     2023-01-01 01:00:00  0.422951\n",
       "...                   ...       ...\n",
       "35035 2023-12-31 22:45:00  0.331148\n",
       "35036 2023-12-31 23:00:00  0.270492\n",
       "35037 2023-12-31 23:15:00  0.365574\n",
       "35038 2023-12-31 23:30:00  0.337295\n",
       "35039 2023-12-31 23:45:00  0.253689\n",
       "\n",
       "[35040 rows x 2 columns]"
      ]
     },
     "execution_count": 232,
     "metadata": {},
     "output_type": "execute_result"
    }
   ],
   "source": [
    "data"
   ]
  },
  {
   "cell_type": "code",
   "execution_count": 233,
   "metadata": {},
   "outputs": [],
   "source": [
    "# Define a function to generate a list of timestamps every 2 hours within the dataset's range\n",
    "def generate_timestamps(data) -> pd.DatetimeIndex:\n",
    "    start = data['Timestamp'].min() + DateOffset(days=9, hours=30, minutes=0)\n",
    "    end = data['Timestamp'].max() - DateOffset(hours=2, minutes=30)\n",
    "    timestamps = pd.date_range(start=start, end=end, freq='2H')\n",
    "    return timestamps\n"
   ]
  },
  {
   "cell_type": "code",
   "execution_count": 234,
   "metadata": {},
   "outputs": [
    {
     "name": "stdout",
     "output_type": "stream",
     "text": [
      "DatetimeIndex(['2023-01-11 06:00:00', '2023-01-11 08:00:00',\n",
      "               '2023-01-11 10:00:00', '2023-01-11 12:00:00',\n",
      "               '2023-01-11 14:00:00', '2023-01-11 16:00:00',\n",
      "               '2023-01-11 18:00:00', '2023-01-11 20:00:00',\n",
      "               '2023-01-11 22:00:00', '2023-01-12 00:00:00',\n",
      "               ...\n",
      "               '2023-12-31 02:00:00', '2023-12-31 04:00:00',\n",
      "               '2023-12-31 06:00:00', '2023-12-31 08:00:00',\n",
      "               '2023-12-31 10:00:00', '2023-12-31 12:00:00',\n",
      "               '2023-12-31 14:00:00', '2023-12-31 16:00:00',\n",
      "               '2023-12-31 18:00:00', '2023-12-31 20:00:00'],\n",
      "              dtype='datetime64[ns]', length=4256, freq='2H')\n"
     ]
    }
   ],
   "source": [
    "timestamps = generate_timestamps(data)\n",
    "print(timestamps)"
   ]
  },
  {
   "cell_type": "code",
   "execution_count": 235,
   "metadata": {},
   "outputs": [],
   "source": [
    "def generate_sets_for_all_timestamps(timestamps, data):\n",
    "    training_sets = []\n",
    "    target_sets = []\n",
    "    training_sets_time = []\n",
    "    target_sets_time = []\n",
    "\n",
    "    for timestamp in timestamps:\n",
    "        # Calculate the range for the current period's data\n",
    "        start_time_current = timestamp - DateOffset(days=0, hours=9, minutes=15)\n",
    "        end_time_current = timestamp\n",
    "\n",
    "        # Calculate the equivalent timestamp for last week\n",
    "        timestamp_last_week = timestamp - DateOffset(days=7)\n",
    "        start_time_last_week = timestamp_last_week - DateOffset(days=0, hours=9, minutes=15)\n",
    "        end_time_last_week = timestamp_last_week + DateOffset(hours=2, minutes=30)\n",
    "\n",
    "        # Calculate the target range (the next 10 steps after the current timestamp)\n",
    "        target_start_time = timestamp + DateOffset(minutes=15)  # Start from the next step\n",
    "        target_end_time = timestamp + DateOffset(hours=2, minutes=30)  # 10 steps\n",
    "\n",
    "        # Filter the data for training and target sets\n",
    "        current_data = data[(data['Timestamp'] >= start_time_current) & (data['Timestamp'] <= end_time_current)]\n",
    "        last_week_data = data[(data['Timestamp'] >= start_time_last_week) & (data['Timestamp'] <= end_time_last_week)]\n",
    "        target_data = data[(data['Timestamp'] >= target_start_time) & (data['Timestamp'] <= target_end_time)]\n",
    "\n",
    "        # Combine current and last week data for the training set\n",
    "        training_data = pd.concat([last_week_data, current_data]).reset_index(drop=True)\n",
    "        \n",
    "        # Save the training and target sets\n",
    "        if not training_data.empty and not target_data.empty:\n",
    "            training_sets.append(training_data['Load'])\n",
    "            target_sets.append(target_data['Load'])\n",
    "            training_sets_time.append(list(training_data['Timestamp']))\n",
    "            target_sets_time.append(list(target_data['Timestamp']))\n",
    "\n",
    "    return np.array(training_sets), np.array(target_sets), training_sets_time, target_sets_time\n"
   ]
  },
  {
   "cell_type": "code",
   "execution_count": 236,
   "metadata": {},
   "outputs": [],
   "source": [
    "# Generate training and target sets for all the timestamps\n",
    "training_sets, target_sets, training_sets_time, target_sets_time = generate_sets_for_all_timestamps(timestamps, data)"
   ]
  },
  {
   "cell_type": "code",
   "execution_count": 237,
   "metadata": {},
   "outputs": [
    {
     "name": "stdout",
     "output_type": "stream",
     "text": [
      "[Timestamp('2023-01-03 20:45:00'), Timestamp('2023-01-03 21:00:00'), Timestamp('2023-01-03 21:15:00'), Timestamp('2023-01-03 21:30:00'), Timestamp('2023-01-03 21:45:00'), Timestamp('2023-01-03 22:00:00'), Timestamp('2023-01-03 22:15:00'), Timestamp('2023-01-03 22:30:00'), Timestamp('2023-01-03 22:45:00'), Timestamp('2023-01-03 23:00:00'), Timestamp('2023-01-03 23:15:00'), Timestamp('2023-01-03 23:30:00'), Timestamp('2023-01-03 23:45:00'), Timestamp('2023-01-04 00:00:00'), Timestamp('2023-01-04 00:15:00'), Timestamp('2023-01-04 00:30:00'), Timestamp('2023-01-04 00:45:00'), Timestamp('2023-01-04 01:00:00'), Timestamp('2023-01-04 01:15:00'), Timestamp('2023-01-04 01:30:00'), Timestamp('2023-01-04 01:45:00'), Timestamp('2023-01-04 02:00:00'), Timestamp('2023-01-04 02:15:00'), Timestamp('2023-01-04 02:30:00'), Timestamp('2023-01-04 02:45:00'), Timestamp('2023-01-04 03:00:00'), Timestamp('2023-01-04 03:15:00'), Timestamp('2023-01-04 03:30:00'), Timestamp('2023-01-04 03:45:00'), Timestamp('2023-01-04 04:00:00'), Timestamp('2023-01-04 04:15:00'), Timestamp('2023-01-04 04:30:00'), Timestamp('2023-01-04 04:45:00'), Timestamp('2023-01-04 05:00:00'), Timestamp('2023-01-04 05:15:00'), Timestamp('2023-01-04 05:30:00'), Timestamp('2023-01-04 05:45:00'), Timestamp('2023-01-04 06:00:00'), Timestamp('2023-01-04 06:15:00'), Timestamp('2023-01-04 06:30:00'), Timestamp('2023-01-04 06:45:00'), Timestamp('2023-01-04 07:00:00'), Timestamp('2023-01-04 07:15:00'), Timestamp('2023-01-04 07:30:00'), Timestamp('2023-01-04 07:45:00'), Timestamp('2023-01-04 08:00:00'), Timestamp('2023-01-04 08:15:00'), Timestamp('2023-01-04 08:30:00'), Timestamp('2023-01-10 20:45:00'), Timestamp('2023-01-10 21:00:00'), Timestamp('2023-01-10 21:15:00'), Timestamp('2023-01-10 21:30:00'), Timestamp('2023-01-10 21:45:00'), Timestamp('2023-01-10 22:00:00'), Timestamp('2023-01-10 22:15:00'), Timestamp('2023-01-10 22:30:00'), Timestamp('2023-01-10 22:45:00'), Timestamp('2023-01-10 23:00:00'), Timestamp('2023-01-10 23:15:00'), Timestamp('2023-01-10 23:30:00'), Timestamp('2023-01-10 23:45:00'), Timestamp('2023-01-11 00:00:00'), Timestamp('2023-01-11 00:15:00'), Timestamp('2023-01-11 00:30:00'), Timestamp('2023-01-11 00:45:00'), Timestamp('2023-01-11 01:00:00'), Timestamp('2023-01-11 01:15:00'), Timestamp('2023-01-11 01:30:00'), Timestamp('2023-01-11 01:45:00'), Timestamp('2023-01-11 02:00:00'), Timestamp('2023-01-11 02:15:00'), Timestamp('2023-01-11 02:30:00'), Timestamp('2023-01-11 02:45:00'), Timestamp('2023-01-11 03:00:00'), Timestamp('2023-01-11 03:15:00'), Timestamp('2023-01-11 03:30:00'), Timestamp('2023-01-11 03:45:00'), Timestamp('2023-01-11 04:00:00'), Timestamp('2023-01-11 04:15:00'), Timestamp('2023-01-11 04:30:00'), Timestamp('2023-01-11 04:45:00'), Timestamp('2023-01-11 05:00:00'), Timestamp('2023-01-11 05:15:00'), Timestamp('2023-01-11 05:30:00'), Timestamp('2023-01-11 05:45:00'), Timestamp('2023-01-11 06:00:00')]\n",
      "[Timestamp('2023-01-11 06:15:00'), Timestamp('2023-01-11 06:30:00'), Timestamp('2023-01-11 06:45:00'), Timestamp('2023-01-11 07:00:00'), Timestamp('2023-01-11 07:15:00'), Timestamp('2023-01-11 07:30:00'), Timestamp('2023-01-11 07:45:00'), Timestamp('2023-01-11 08:00:00'), Timestamp('2023-01-11 08:15:00'), Timestamp('2023-01-11 08:30:00')]\n"
     ]
    }
   ],
   "source": [
    "print(training_sets_time[0])\n",
    "print(target_sets_time[0])"
   ]
  },
  {
   "cell_type": "code",
   "execution_count": 238,
   "metadata": {},
   "outputs": [
    {
     "name": "stdout",
     "output_type": "stream",
     "text": [
      "[0.29754098 0.3147541  0.30860656 0.28196721 0.2795082  0.29016393\n",
      " 0.26803279 0.29631148 0.30532787 0.29672131 0.29139344 0.3\n",
      " 0.31393443 0.2807377  0.31885246 0.3        0.30737705 0.27786885\n",
      " 0.30368852 0.33442623 0.28934426 0.31270492 0.31393443 0.31762295\n",
      " 0.31721311 0.5647541  0.31762295 0.33237705 0.33729508 0.31352459\n",
      " 0.3147541  0.32459016 0.31967213 0.33237705 0.32704918 0.34672131\n",
      " 0.30737705 0.34221311 0.34959016 0.29631148 0.36516393 0.33319672\n",
      " 0.35163934 0.33811475 0.35327869 0.4204918  0.37745902 0.36393443\n",
      " 0.31844262 0.31106557 0.34057377 0.31393443 0.29385246 0.31844262\n",
      " 0.33319672 0.32377049 0.34057377 0.31352459 0.30901639 0.31516393\n",
      " 0.31967213 0.3102459  0.3147541  0.31106557 0.325      0.32827869\n",
      " 0.3307377  0.32336066 0.33237705 0.33729508 0.35081967 0.33811475\n",
      " 0.33565574 0.33688525 0.34467213 0.34467213 0.36393443 0.3454918\n",
      " 0.35286885 0.35040984 0.34672131 0.36147541 0.35819672 0.40204918\n",
      " 0.35204918 0.38032787]\n",
      "[0.39713115 0.35819672 0.34344262 0.33237705 0.3545082  0.37540984\n",
      " 0.34918033 0.38729508 0.37745902 0.38893443]\n"
     ]
    }
   ],
   "source": [
    "print(training_sets[0])\n",
    "print(target_sets[0])"
   ]
  },
  {
   "cell_type": "code",
   "execution_count": 239,
   "metadata": {},
   "outputs": [
    {
     "name": "stdout",
     "output_type": "stream",
     "text": [
      "(4256, 86)\n",
      "(4256, 10)\n"
     ]
    }
   ],
   "source": [
    "print(training_sets.shape)\n",
    "print(target_sets.shape)"
   ]
  },
  {
   "cell_type": "code",
   "execution_count": 240,
   "metadata": {},
   "outputs": [],
   "source": [
    "X_train, X_test, y_train, y_test = train_test_split(training_sets, target_sets, test_size=0.15, random_state=42)"
   ]
  },
  {
   "cell_type": "code",
   "execution_count": 241,
   "metadata": {},
   "outputs": [],
   "source": [
    "X_train_time, X_test_time, y_train_time, y_test_time = train_test_split(training_sets_time, target_sets_time, test_size=0.15, random_state=42)"
   ]
  },
  {
   "cell_type": "code",
   "execution_count": 242,
   "metadata": {},
   "outputs": [],
   "source": [
    "X_train_filtered = np.array(savgol_filter(X_train, 10, 4))\n",
    "X_test_filtered = np.array(savgol_filter(X_test, 10, 4))\n",
    "y_train_filtered = np.array(savgol_filter(y_train, 10, 4))\n",
    "y_test_filtered = np.array(savgol_filter(y_test, 10, 4))"
   ]
  },
  {
   "cell_type": "code",
   "execution_count": 243,
   "metadata": {},
   "outputs": [],
   "source": [
    "X_train_residual = X_train - X_train_filtered\n",
    "X_test_residual = X_test - X_test_filtered\n",
    "y_train_residual = y_train - y_train_filtered\n",
    "y_test_residual = y_test - y_test_filtered"
   ]
  },
  {
   "cell_type": "code",
   "execution_count": 244,
   "metadata": {},
   "outputs": [],
   "source": [
    "# param_dist = {\n",
    "#     'max_depth': randint(2, 10),\n",
    "#     'min_child_weight': randint(2, 10),\n",
    "#     'learning_rate': uniform(0.0001, 0.1),\n",
    "#     'n_estimators': randint(10, 500)\n",
    "# }\n",
    "\n",
    "# xgboost = xgb.XGBRegressor(objective='reg:squarederror')\n",
    "# random_search = RandomizedSearchCV(\n",
    "#     estimator=xgboost,\n",
    "#     param_distributions=param_dist,\n",
    "#     n_iter=200,\n",
    "#     cv=3,\n",
    "#     verbose=2,\n",
    "#     random_state=42,\n",
    "#     n_jobs=-1\n",
    "# )\n",
    "# random_search.fit(X_train_residual, y_train_residual)\n",
    "\n",
    "# print(\"-\"*86)\n",
    "# print(\"xgboost Best parameters:\", random_search.best_params_)\n",
    "# print(\"xgboost Best score:\", random_search.best_score_)\n",
    "# print(\"-\"*86)\n",
    "\n",
    "# lr: 0.05232432600548044\n",
    "# max_depth: 6\n",
    "# min_child_weight: 5\n",
    "# n_estimators:117"
   ]
  },
  {
   "cell_type": "code",
   "execution_count": 245,
   "metadata": {},
   "outputs": [
    {
     "data": {
      "text/html": [
       "<style>#sk-container-id-14 {color: black;}#sk-container-id-14 pre{padding: 0;}#sk-container-id-14 div.sk-toggleable {background-color: white;}#sk-container-id-14 label.sk-toggleable__label {cursor: pointer;display: block;width: 100%;margin-bottom: 0;padding: 0.3em;box-sizing: border-box;text-align: center;}#sk-container-id-14 label.sk-toggleable__label-arrow:before {content: \"▸\";float: left;margin-right: 0.25em;color: #696969;}#sk-container-id-14 label.sk-toggleable__label-arrow:hover:before {color: black;}#sk-container-id-14 div.sk-estimator:hover label.sk-toggleable__label-arrow:before {color: black;}#sk-container-id-14 div.sk-toggleable__content {max-height: 0;max-width: 0;overflow: hidden;text-align: left;background-color: #f0f8ff;}#sk-container-id-14 div.sk-toggleable__content pre {margin: 0.2em;color: black;border-radius: 0.25em;background-color: #f0f8ff;}#sk-container-id-14 input.sk-toggleable__control:checked~div.sk-toggleable__content {max-height: 200px;max-width: 100%;overflow: auto;}#sk-container-id-14 input.sk-toggleable__control:checked~label.sk-toggleable__label-arrow:before {content: \"▾\";}#sk-container-id-14 div.sk-estimator input.sk-toggleable__control:checked~label.sk-toggleable__label {background-color: #d4ebff;}#sk-container-id-14 div.sk-label input.sk-toggleable__control:checked~label.sk-toggleable__label {background-color: #d4ebff;}#sk-container-id-14 input.sk-hidden--visually {border: 0;clip: rect(1px 1px 1px 1px);clip: rect(1px, 1px, 1px, 1px);height: 1px;margin: -1px;overflow: hidden;padding: 0;position: absolute;width: 1px;}#sk-container-id-14 div.sk-estimator {font-family: monospace;background-color: #f0f8ff;border: 1px dotted black;border-radius: 0.25em;box-sizing: border-box;margin-bottom: 0.5em;}#sk-container-id-14 div.sk-estimator:hover {background-color: #d4ebff;}#sk-container-id-14 div.sk-parallel-item::after {content: \"\";width: 100%;border-bottom: 1px solid gray;flex-grow: 1;}#sk-container-id-14 div.sk-label:hover label.sk-toggleable__label {background-color: #d4ebff;}#sk-container-id-14 div.sk-serial::before {content: \"\";position: absolute;border-left: 1px solid gray;box-sizing: border-box;top: 0;bottom: 0;left: 50%;z-index: 0;}#sk-container-id-14 div.sk-serial {display: flex;flex-direction: column;align-items: center;background-color: white;padding-right: 0.2em;padding-left: 0.2em;position: relative;}#sk-container-id-14 div.sk-item {position: relative;z-index: 1;}#sk-container-id-14 div.sk-parallel {display: flex;align-items: stretch;justify-content: center;background-color: white;position: relative;}#sk-container-id-14 div.sk-item::before, #sk-container-id-14 div.sk-parallel-item::before {content: \"\";position: absolute;border-left: 1px solid gray;box-sizing: border-box;top: 0;bottom: 0;left: 50%;z-index: -1;}#sk-container-id-14 div.sk-parallel-item {display: flex;flex-direction: column;z-index: 1;position: relative;background-color: white;}#sk-container-id-14 div.sk-parallel-item:first-child::after {align-self: flex-end;width: 50%;}#sk-container-id-14 div.sk-parallel-item:last-child::after {align-self: flex-start;width: 50%;}#sk-container-id-14 div.sk-parallel-item:only-child::after {width: 0;}#sk-container-id-14 div.sk-dashed-wrapped {border: 1px dashed gray;margin: 0 0.4em 0.5em 0.4em;box-sizing: border-box;padding-bottom: 0.4em;background-color: white;}#sk-container-id-14 div.sk-label label {font-family: monospace;font-weight: bold;display: inline-block;line-height: 1.2em;}#sk-container-id-14 div.sk-label-container {text-align: center;}#sk-container-id-14 div.sk-container {/* jupyter's `normalize.less` sets `[hidden] { display: none; }` but bootstrap.min.css set `[hidden] { display: none !important; }` so we also need the `!important` here to be able to override the default hidden behavior on the sphinx rendered scikit-learn.org. See: https://github.com/scikit-learn/scikit-learn/issues/21755 */display: inline-block !important;position: relative;}#sk-container-id-14 div.sk-text-repr-fallback {display: none;}</style><div id=\"sk-container-id-14\" class=\"sk-top-container\"><div class=\"sk-text-repr-fallback\"><pre>XGBRegressor(base_score=None, booster=None, callbacks=None,\n",
       "             colsample_bylevel=None, colsample_bynode=None,\n",
       "             colsample_bytree=None, device=None, early_stopping_rounds=None,\n",
       "             enable_categorical=False, eval_metric=None, feature_types=None,\n",
       "             gamma=None, grow_policy=None, importance_type=None,\n",
       "             interaction_constraints=None, learning_rate=0.0523, max_bin=None,\n",
       "             max_cat_threshold=None, max_cat_to_onehot=None,\n",
       "             max_delta_step=None, max_depth=6, max_leaves=None,\n",
       "             min_child_weight=5, missing=nan, monotone_constraints=None,\n",
       "             multi_strategy=None, n_estimators=117, n_jobs=None,\n",
       "             num_parallel_tree=None, random_state=None, ...)</pre><b>In a Jupyter environment, please rerun this cell to show the HTML representation or trust the notebook. <br />On GitHub, the HTML representation is unable to render, please try loading this page with nbviewer.org.</b></div><div class=\"sk-container\" hidden><div class=\"sk-item\"><div class=\"sk-estimator sk-toggleable\"><input class=\"sk-toggleable__control sk-hidden--visually\" id=\"sk-estimator-id-26\" type=\"checkbox\" checked><label for=\"sk-estimator-id-26\" class=\"sk-toggleable__label sk-toggleable__label-arrow\">XGBRegressor</label><div class=\"sk-toggleable__content\"><pre>XGBRegressor(base_score=None, booster=None, callbacks=None,\n",
       "             colsample_bylevel=None, colsample_bynode=None,\n",
       "             colsample_bytree=None, device=None, early_stopping_rounds=None,\n",
       "             enable_categorical=False, eval_metric=None, feature_types=None,\n",
       "             gamma=None, grow_policy=None, importance_type=None,\n",
       "             interaction_constraints=None, learning_rate=0.0523, max_bin=None,\n",
       "             max_cat_threshold=None, max_cat_to_onehot=None,\n",
       "             max_delta_step=None, max_depth=6, max_leaves=None,\n",
       "             min_child_weight=5, missing=nan, monotone_constraints=None,\n",
       "             multi_strategy=None, n_estimators=117, n_jobs=None,\n",
       "             num_parallel_tree=None, random_state=None, ...)</pre></div></div></div></div></div>"
      ],
      "text/plain": [
       "XGBRegressor(base_score=None, booster=None, callbacks=None,\n",
       "             colsample_bylevel=None, colsample_bynode=None,\n",
       "             colsample_bytree=None, device=None, early_stopping_rounds=None,\n",
       "             enable_categorical=False, eval_metric=None, feature_types=None,\n",
       "             gamma=None, grow_policy=None, importance_type=None,\n",
       "             interaction_constraints=None, learning_rate=0.0523, max_bin=None,\n",
       "             max_cat_threshold=None, max_cat_to_onehot=None,\n",
       "             max_delta_step=None, max_depth=6, max_leaves=None,\n",
       "             min_child_weight=5, missing=nan, monotone_constraints=None,\n",
       "             multi_strategy=None, n_estimators=117, n_jobs=None,\n",
       "             num_parallel_tree=None, random_state=None, ...)"
      ]
     },
     "execution_count": 245,
     "metadata": {},
     "output_type": "execute_result"
    }
   ],
   "source": [
    "xgboost = xgb.XGBRegressor(\n",
    "    objective='reg:squarederror',\n",
    "    learning_rate=0.0523,\n",
    "    max_depth=6,\n",
    "    min_child_weight=5,\n",
    "    n_estimators=117,\n",
    ")\n",
    "\n",
    "xgboost.fit(X_train_residual, y_train_residual)"
   ]
  },
  {
   "cell_type": "code",
   "execution_count": 246,
   "metadata": {},
   "outputs": [],
   "source": [
    "# param_dist = {\n",
    "#     'estimator__C': reciprocal(0.0001, 0.1),\n",
    "#     'estimator__epsilon': expon(scale=0.1)\n",
    "# }\n",
    "\n",
    "# svr = SVR(kernel='rbf')\n",
    "# multioutput_svr = MultiOutputRegressor(svr)\n",
    "# random_search = RandomizedSearchCV(estimator=multioutput_svr, param_distributions=param_dist, n_iter=1000, cv=3, verbose=2, random_state=42, n_jobs=-1)\n",
    "# random_search.fit(X_train_filtered, y_train_filtered)\n",
    "\n",
    "# print(\"-\"*86)\n",
    "# print(\"svm Best parameters:\", random_search.best_params_)\n",
    "# print(\"svm Best score:\", random_search.best_score_)\n",
    "# print(\"-\"*86)\n",
    "\n",
    "# svm Best parameters: {'estimator__C': 0.09959583506357932, 'estimator__epsilon': 0.004941299889430069}\n",
    "# svm Best score: 0.8563983291741492\n"
   ]
  },
  {
   "cell_type": "code",
   "execution_count": 247,
   "metadata": {},
   "outputs": [
    {
     "data": {
      "text/html": [
       "<style>#sk-container-id-15 {color: black;}#sk-container-id-15 pre{padding: 0;}#sk-container-id-15 div.sk-toggleable {background-color: white;}#sk-container-id-15 label.sk-toggleable__label {cursor: pointer;display: block;width: 100%;margin-bottom: 0;padding: 0.3em;box-sizing: border-box;text-align: center;}#sk-container-id-15 label.sk-toggleable__label-arrow:before {content: \"▸\";float: left;margin-right: 0.25em;color: #696969;}#sk-container-id-15 label.sk-toggleable__label-arrow:hover:before {color: black;}#sk-container-id-15 div.sk-estimator:hover label.sk-toggleable__label-arrow:before {color: black;}#sk-container-id-15 div.sk-toggleable__content {max-height: 0;max-width: 0;overflow: hidden;text-align: left;background-color: #f0f8ff;}#sk-container-id-15 div.sk-toggleable__content pre {margin: 0.2em;color: black;border-radius: 0.25em;background-color: #f0f8ff;}#sk-container-id-15 input.sk-toggleable__control:checked~div.sk-toggleable__content {max-height: 200px;max-width: 100%;overflow: auto;}#sk-container-id-15 input.sk-toggleable__control:checked~label.sk-toggleable__label-arrow:before {content: \"▾\";}#sk-container-id-15 div.sk-estimator input.sk-toggleable__control:checked~label.sk-toggleable__label {background-color: #d4ebff;}#sk-container-id-15 div.sk-label input.sk-toggleable__control:checked~label.sk-toggleable__label {background-color: #d4ebff;}#sk-container-id-15 input.sk-hidden--visually {border: 0;clip: rect(1px 1px 1px 1px);clip: rect(1px, 1px, 1px, 1px);height: 1px;margin: -1px;overflow: hidden;padding: 0;position: absolute;width: 1px;}#sk-container-id-15 div.sk-estimator {font-family: monospace;background-color: #f0f8ff;border: 1px dotted black;border-radius: 0.25em;box-sizing: border-box;margin-bottom: 0.5em;}#sk-container-id-15 div.sk-estimator:hover {background-color: #d4ebff;}#sk-container-id-15 div.sk-parallel-item::after {content: \"\";width: 100%;border-bottom: 1px solid gray;flex-grow: 1;}#sk-container-id-15 div.sk-label:hover label.sk-toggleable__label {background-color: #d4ebff;}#sk-container-id-15 div.sk-serial::before {content: \"\";position: absolute;border-left: 1px solid gray;box-sizing: border-box;top: 0;bottom: 0;left: 50%;z-index: 0;}#sk-container-id-15 div.sk-serial {display: flex;flex-direction: column;align-items: center;background-color: white;padding-right: 0.2em;padding-left: 0.2em;position: relative;}#sk-container-id-15 div.sk-item {position: relative;z-index: 1;}#sk-container-id-15 div.sk-parallel {display: flex;align-items: stretch;justify-content: center;background-color: white;position: relative;}#sk-container-id-15 div.sk-item::before, #sk-container-id-15 div.sk-parallel-item::before {content: \"\";position: absolute;border-left: 1px solid gray;box-sizing: border-box;top: 0;bottom: 0;left: 50%;z-index: -1;}#sk-container-id-15 div.sk-parallel-item {display: flex;flex-direction: column;z-index: 1;position: relative;background-color: white;}#sk-container-id-15 div.sk-parallel-item:first-child::after {align-self: flex-end;width: 50%;}#sk-container-id-15 div.sk-parallel-item:last-child::after {align-self: flex-start;width: 50%;}#sk-container-id-15 div.sk-parallel-item:only-child::after {width: 0;}#sk-container-id-15 div.sk-dashed-wrapped {border: 1px dashed gray;margin: 0 0.4em 0.5em 0.4em;box-sizing: border-box;padding-bottom: 0.4em;background-color: white;}#sk-container-id-15 div.sk-label label {font-family: monospace;font-weight: bold;display: inline-block;line-height: 1.2em;}#sk-container-id-15 div.sk-label-container {text-align: center;}#sk-container-id-15 div.sk-container {/* jupyter's `normalize.less` sets `[hidden] { display: none; }` but bootstrap.min.css set `[hidden] { display: none !important; }` so we also need the `!important` here to be able to override the default hidden behavior on the sphinx rendered scikit-learn.org. See: https://github.com/scikit-learn/scikit-learn/issues/21755 */display: inline-block !important;position: relative;}#sk-container-id-15 div.sk-text-repr-fallback {display: none;}</style><div id=\"sk-container-id-15\" class=\"sk-top-container\"><div class=\"sk-text-repr-fallback\"><pre>MultiOutputRegressor(estimator=SVR(C=0.1, epsilon=0.0049))</pre><b>In a Jupyter environment, please rerun this cell to show the HTML representation or trust the notebook. <br />On GitHub, the HTML representation is unable to render, please try loading this page with nbviewer.org.</b></div><div class=\"sk-container\" hidden><div class=\"sk-item sk-dashed-wrapped\"><div class=\"sk-label-container\"><div class=\"sk-label sk-toggleable\"><input class=\"sk-toggleable__control sk-hidden--visually\" id=\"sk-estimator-id-27\" type=\"checkbox\" ><label for=\"sk-estimator-id-27\" class=\"sk-toggleable__label sk-toggleable__label-arrow\">MultiOutputRegressor</label><div class=\"sk-toggleable__content\"><pre>MultiOutputRegressor(estimator=SVR(C=0.1, epsilon=0.0049))</pre></div></div></div><div class=\"sk-parallel\"><div class=\"sk-parallel-item\"><div class=\"sk-item\"><div class=\"sk-label-container\"><div class=\"sk-label sk-toggleable\"><input class=\"sk-toggleable__control sk-hidden--visually\" id=\"sk-estimator-id-28\" type=\"checkbox\" ><label for=\"sk-estimator-id-28\" class=\"sk-toggleable__label sk-toggleable__label-arrow\">estimator: SVR</label><div class=\"sk-toggleable__content\"><pre>SVR(C=0.1, epsilon=0.0049)</pre></div></div></div><div class=\"sk-serial\"><div class=\"sk-item\"><div class=\"sk-estimator sk-toggleable\"><input class=\"sk-toggleable__control sk-hidden--visually\" id=\"sk-estimator-id-29\" type=\"checkbox\" ><label for=\"sk-estimator-id-29\" class=\"sk-toggleable__label sk-toggleable__label-arrow\">SVR</label><div class=\"sk-toggleable__content\"><pre>SVR(C=0.1, epsilon=0.0049)</pre></div></div></div></div></div></div></div></div></div></div>"
      ],
      "text/plain": [
       "MultiOutputRegressor(estimator=SVR(C=0.1, epsilon=0.0049))"
      ]
     },
     "execution_count": 247,
     "metadata": {},
     "output_type": "execute_result"
    }
   ],
   "source": [
    "svr = SVR(kernel='rbf', C=0.1, epsilon=0.0049)\n",
    "multioutput_svr = MultiOutputRegressor(svr)\n",
    "multioutput_svr.fit(X_train_filtered, y_train_filtered)"
   ]
  },
  {
   "cell_type": "code",
   "execution_count": 248,
   "metadata": {},
   "outputs": [],
   "source": [
    "pred_svr = multioutput_svr.predict(X_test_filtered)\n",
    "pred_xgboost = xgboost.predict(X_test_residual)"
   ]
  },
  {
   "cell_type": "code",
   "execution_count": 252,
   "metadata": {},
   "outputs": [
    {
     "name": "stdout",
     "output_type": "stream",
     "text": [
      "--------------------------------------------------------------------------------------\n",
      "Testing Loss: 0.0033\n",
      "--------------------------------------------------------------------------------------\n"
     ]
    }
   ],
   "source": [
    "y_pred = pred_svr + pred_xgboost\n",
    "loss = mean_squared_error(y_test, y_pred)\n",
    "print(\"-\" * 86)\n",
    "print(f'Testing Loss: {loss:.4f}')\n",
    "print(\"-\" * 86)\n",
    "\n",
    "pred_data = scaler.inverse_transform(y_pred)\n",
    "actual_data = scaler.inverse_transform(y_test)\n",
    "previous_data = scaler.inverse_transform(X_test)\n",
    "for i in range(actual_data.shape[0]):\n",
    "    plt.figure(figsize=(12, 6))\n",
    "    X1 = np.concatenate((X_test_time[i][-24:], y_test_time[i]))\n",
    "    y1 = np.concatenate((previous_data[i][-24:], actual_data[i]))\n",
    "    X2 = y_test_time[i]\n",
    "    y_p = pred_data[i]\n",
    "    y_a = actual_data[i]\n",
    "    Xh = np.full(30, X1[len(X1)-10])\n",
    "    yh = np.arange(0, 30, 1)\n",
    "    plt.title(f\"Time Series {i+1} prediction\")\n",
    "    plt.plot(X1, y1, '--', color='#98afc7')\n",
    "    plt.plot(X2, y_p, label='Predict')\n",
    "    plt.plot(X2, y_a, label='Actual')\n",
    "    plt.plot(Xh, yh, color='#4863a0', alpha=0.5)\n",
    "    plt.ylim(0, maxValue)\n",
    "    plt.xlabel('Time step')\n",
    "    plt.ylabel('Usage (kWh)')\n",
    "    plt.legend(loc='upper left', bbox_to_anchor=(1, 1))\n",
    "    plt.tight_layout()\n",
    "    plt.savefig(TEST_PLOT_DIR+f\"Time_Series_{i+1}.png\")\n",
    "    plt.close()"
   ]
  },
  {
   "cell_type": "code",
   "execution_count": 253,
   "metadata": {},
   "outputs": [
    {
     "name": "stderr",
     "output_type": "stream",
     "text": [
      "/Users/elviswu/miniconda3/envs/tf/lib/python3.11/site-packages/xgboost/core.py:160: UserWarning: [20:12:30] WARNING: /Users/runner/work/xgboost/xgboost/src/c_api/c_api.cc:1240: Saving into deprecated binary model format, please consider using `json` or `ubj`. Model format will default to JSON in XGBoost 2.2 if not specified.\n",
      "  warnings.warn(smsg, UserWarning)\n"
     ]
    },
    {
     "data": {
      "text/plain": [
       "['scaler.joblib']"
      ]
     },
     "execution_count": 253,
     "metadata": {},
     "output_type": "execute_result"
    }
   ],
   "source": [
    "from joblib import dump\n",
    "# xgboost\n",
    "xgboost.save_model('xgboost.model')\n",
    "# svr\n",
    "dump(multioutput_svr, 'svr.joblib')\n",
    "# kMeans\n",
    "dump(scaler, 'scaler.joblib')"
   ]
  }
 ],
 "metadata": {
  "kernelspec": {
   "display_name": "tf",
   "language": "python",
   "name": "python3"
  },
  "language_info": {
   "codemirror_mode": {
    "name": "ipython",
    "version": 3
   },
   "file_extension": ".py",
   "mimetype": "text/x-python",
   "name": "python",
   "nbconvert_exporter": "python",
   "pygments_lexer": "ipython3",
   "version": "3.11.7"
  }
 },
 "nbformat": 4,
 "nbformat_minor": 2
}
