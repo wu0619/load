{
 "cells": [
  {
   "cell_type": "code",
   "execution_count": 138,
   "metadata": {},
   "outputs": [],
   "source": [
    "import numpy as np\n",
    "import pandas as pd\n",
    "import matplotlib.pyplot as plt\n",
    "import xgboost as xgb\n",
    "import os\n",
    "\n",
    "from scipy.signal import savgol_filter\n",
    "from sklearn.svm import SVR\n",
    "from sklearn.preprocessing import MinMaxScaler\n",
    "from sklearn.metrics import mean_squared_error\n",
    "from sklearn.model_selection import train_test_split\n",
    "from sklearn.multioutput import MultiOutputRegressor\n",
    "from sklearn.cluster import KMeans\n",
    "from sklearn.model_selection import RandomizedSearchCV\n",
    "from scipy.stats import randint, uniform, expon, reciprocal"
   ]
  },
  {
   "cell_type": "code",
   "execution_count": 139,
   "metadata": {},
   "outputs": [],
   "source": [
    "PREDICT_STEP = 96\n",
    "INPUT_STEP = 384\n",
    "N_FEATURE = 1"
   ]
  },
  {
   "cell_type": "code",
   "execution_count": 140,
   "metadata": {},
   "outputs": [],
   "source": [
    "# dirs\n",
    "DATA_DIR = \"./load.csv\"\n",
    "TEST_PLOT_DIR = \"./test_plots/savgol_xgboost_svm/\"\n",
    "MODEL_FILE_DIR = \"./model/savgol_xgboost_svm.keras\"\n",
    "TRAINING_HISTORY_DIR = \"./training_history/savgol_xgboost_svm.png\""
   ]
  },
  {
   "cell_type": "code",
   "execution_count": 141,
   "metadata": {},
   "outputs": [],
   "source": [
    "if not os.path.exists(TEST_PLOT_DIR):\n",
    "    os.makedirs(TEST_PLOT_DIR)\n",
    "if not os.path.exists(\"./model\"):\n",
    "    os.makedirs(\"./model\")\n",
    "if not os.path.exists(\"./training_history\"):\n",
    "    os.makedirs(\"./training_history\")\n"
   ]
  },
  {
   "cell_type": "code",
   "execution_count": 142,
   "metadata": {},
   "outputs": [
    {
     "name": "stdout",
     "output_type": "stream",
     "text": [
      "[[0.4454918 ]\n",
      " [0.42704918]\n",
      " [0.4454918 ]\n",
      " ...\n",
      " [0.36557377]\n",
      " [0.33729508]\n",
      " [0.25368852]]\n"
     ]
    }
   ],
   "source": [
    "data = pd.read_csv(DATA_DIR)\n",
    "maxValue = np.max(data['Load'])\n",
    "scaler = MinMaxScaler()\n",
    "data_scaled = scaler.fit_transform(data['Load'].to_numpy().reshape(-1, 1))\n",
    "print(data_scaled)\n",
    "data['Load'] = data_scaled.reshape(-1, 1)\n",
    "# Convert the 'date' column to datetime format\n",
    "data['Timestamp'] = pd.to_datetime(data['Timestamp'], format='%Y/%m/%d %H:%M')\n",
    "\n",
    "# Sort the data by date\n",
    "groups = data.groupby(pd.Grouper(key='Timestamp', freq='D'))"
   ]
  },
  {
   "cell_type": "code",
   "execution_count": 143,
   "metadata": {},
   "outputs": [],
   "source": [
    "train_df = []\n",
    "for date, data in groups:\n",
    "    train_df.append(list(data[\"Load\"]))\n",
    "train_df = np.array(train_df)"
   ]
  },
  {
   "cell_type": "code",
   "execution_count": 144,
   "metadata": {},
   "outputs": [
    {
     "data": {
      "text/plain": [
       "array([[0.4454918 , 0.42704918, 0.4454918 , ..., 0.37622951, 0.35942623,\n",
       "        0.39508197],\n",
       "       [0.29672131, 0.27581967, 0.41188525, ..., 0.2795082 , 0.31147541,\n",
       "        0.29795082],\n",
       "       [0.32704918, 0.32704918, 0.29795082, ..., 0.29139344, 0.3       ,\n",
       "        0.31393443],\n",
       "       ...,\n",
       "       [0.26803279, 0.38032787, 0.2647541 , ..., 0.36557377, 0.33729508,\n",
       "        0.25368852],\n",
       "       [0.26803279, 0.38032787, 0.2647541 , ..., 0.36557377, 0.33729508,\n",
       "        0.25368852],\n",
       "       [0.26803279, 0.38032787, 0.2647541 , ..., 0.36557377, 0.33729508,\n",
       "        0.25368852]])"
      ]
     },
     "execution_count": 144,
     "metadata": {},
     "output_type": "execute_result"
    }
   ],
   "source": [
    "train_df"
   ]
  },
  {
   "cell_type": "code",
   "execution_count": 145,
   "metadata": {},
   "outputs": [
    {
     "data": {
      "text/plain": [
       "(365, 96)"
      ]
     },
     "metadata": {},
     "output_type": "display_data"
    }
   ],
   "source": [
    "display(train_df.shape)"
   ]
  },
  {
   "cell_type": "code",
   "execution_count": 146,
   "metadata": {},
   "outputs": [],
   "source": [
    "def create_dataset(data):\n",
    "    X, y = [], []\n",
    "    for i in range(9, len(data) - 1):\n",
    "        last_two_days = data[i-2:i].flatten()\n",
    "        last_week_same_days = data[i-7-2:i-7].flatten()\n",
    "\n",
    "        input_data = np.concatenate([last_two_days, last_week_same_days])\n",
    "        X.append(input_data)\n",
    "\n",
    "        next_day = data[i+1]\n",
    "        y.append(next_day)\n",
    "\n",
    "    return np.array(X), np.array(y)"
   ]
  },
  {
   "cell_type": "code",
   "execution_count": 147,
   "metadata": {},
   "outputs": [
    {
     "name": "stdout",
     "output_type": "stream",
     "text": [
      "X shape: (355, 384)\n",
      "y shape: (355, 96)\n"
     ]
    }
   ],
   "source": [
    "X, y = create_dataset(train_df)\n",
    "print(f'X shape: {X.shape}')\n",
    "print(f'y shape: {y.shape}')"
   ]
  },
  {
   "cell_type": "code",
   "execution_count": 148,
   "metadata": {},
   "outputs": [],
   "source": [
    "X_train, X_test, y_train, y_test = train_test_split(X, y, test_size=0.15, random_state=42)"
   ]
  },
  {
   "cell_type": "code",
   "execution_count": 149,
   "metadata": {},
   "outputs": [
    {
     "data": {
      "text/html": [
       "<style>#sk-container-id-12 {color: black;}#sk-container-id-12 pre{padding: 0;}#sk-container-id-12 div.sk-toggleable {background-color: white;}#sk-container-id-12 label.sk-toggleable__label {cursor: pointer;display: block;width: 100%;margin-bottom: 0;padding: 0.3em;box-sizing: border-box;text-align: center;}#sk-container-id-12 label.sk-toggleable__label-arrow:before {content: \"▸\";float: left;margin-right: 0.25em;color: #696969;}#sk-container-id-12 label.sk-toggleable__label-arrow:hover:before {color: black;}#sk-container-id-12 div.sk-estimator:hover label.sk-toggleable__label-arrow:before {color: black;}#sk-container-id-12 div.sk-toggleable__content {max-height: 0;max-width: 0;overflow: hidden;text-align: left;background-color: #f0f8ff;}#sk-container-id-12 div.sk-toggleable__content pre {margin: 0.2em;color: black;border-radius: 0.25em;background-color: #f0f8ff;}#sk-container-id-12 input.sk-toggleable__control:checked~div.sk-toggleable__content {max-height: 200px;max-width: 100%;overflow: auto;}#sk-container-id-12 input.sk-toggleable__control:checked~label.sk-toggleable__label-arrow:before {content: \"▾\";}#sk-container-id-12 div.sk-estimator input.sk-toggleable__control:checked~label.sk-toggleable__label {background-color: #d4ebff;}#sk-container-id-12 div.sk-label input.sk-toggleable__control:checked~label.sk-toggleable__label {background-color: #d4ebff;}#sk-container-id-12 input.sk-hidden--visually {border: 0;clip: rect(1px 1px 1px 1px);clip: rect(1px, 1px, 1px, 1px);height: 1px;margin: -1px;overflow: hidden;padding: 0;position: absolute;width: 1px;}#sk-container-id-12 div.sk-estimator {font-family: monospace;background-color: #f0f8ff;border: 1px dotted black;border-radius: 0.25em;box-sizing: border-box;margin-bottom: 0.5em;}#sk-container-id-12 div.sk-estimator:hover {background-color: #d4ebff;}#sk-container-id-12 div.sk-parallel-item::after {content: \"\";width: 100%;border-bottom: 1px solid gray;flex-grow: 1;}#sk-container-id-12 div.sk-label:hover label.sk-toggleable__label {background-color: #d4ebff;}#sk-container-id-12 div.sk-serial::before {content: \"\";position: absolute;border-left: 1px solid gray;box-sizing: border-box;top: 0;bottom: 0;left: 50%;z-index: 0;}#sk-container-id-12 div.sk-serial {display: flex;flex-direction: column;align-items: center;background-color: white;padding-right: 0.2em;padding-left: 0.2em;position: relative;}#sk-container-id-12 div.sk-item {position: relative;z-index: 1;}#sk-container-id-12 div.sk-parallel {display: flex;align-items: stretch;justify-content: center;background-color: white;position: relative;}#sk-container-id-12 div.sk-item::before, #sk-container-id-12 div.sk-parallel-item::before {content: \"\";position: absolute;border-left: 1px solid gray;box-sizing: border-box;top: 0;bottom: 0;left: 50%;z-index: -1;}#sk-container-id-12 div.sk-parallel-item {display: flex;flex-direction: column;z-index: 1;position: relative;background-color: white;}#sk-container-id-12 div.sk-parallel-item:first-child::after {align-self: flex-end;width: 50%;}#sk-container-id-12 div.sk-parallel-item:last-child::after {align-self: flex-start;width: 50%;}#sk-container-id-12 div.sk-parallel-item:only-child::after {width: 0;}#sk-container-id-12 div.sk-dashed-wrapped {border: 1px dashed gray;margin: 0 0.4em 0.5em 0.4em;box-sizing: border-box;padding-bottom: 0.4em;background-color: white;}#sk-container-id-12 div.sk-label label {font-family: monospace;font-weight: bold;display: inline-block;line-height: 1.2em;}#sk-container-id-12 div.sk-label-container {text-align: center;}#sk-container-id-12 div.sk-container {/* jupyter's `normalize.less` sets `[hidden] { display: none; }` but bootstrap.min.css set `[hidden] { display: none !important; }` so we also need the `!important` here to be able to override the default hidden behavior on the sphinx rendered scikit-learn.org. See: https://github.com/scikit-learn/scikit-learn/issues/21755 */display: inline-block !important;position: relative;}#sk-container-id-12 div.sk-text-repr-fallback {display: none;}</style><div id=\"sk-container-id-12\" class=\"sk-top-container\"><div class=\"sk-text-repr-fallback\"><pre>KMeans(n_clusters=4, n_init=&#x27;auto&#x27;, random_state=10)</pre><b>In a Jupyter environment, please rerun this cell to show the HTML representation or trust the notebook. <br />On GitHub, the HTML representation is unable to render, please try loading this page with nbviewer.org.</b></div><div class=\"sk-container\" hidden><div class=\"sk-item\"><div class=\"sk-estimator sk-toggleable\"><input class=\"sk-toggleable__control sk-hidden--visually\" id=\"sk-estimator-id-16\" type=\"checkbox\" checked><label for=\"sk-estimator-id-16\" class=\"sk-toggleable__label sk-toggleable__label-arrow\">KMeans</label><div class=\"sk-toggleable__content\"><pre>KMeans(n_clusters=4, n_init=&#x27;auto&#x27;, random_state=10)</pre></div></div></div></div></div>"
      ],
      "text/plain": [
       "KMeans(n_clusters=4, n_init='auto', random_state=10)"
      ]
     },
     "execution_count": 149,
     "metadata": {},
     "output_type": "execute_result"
    }
   ],
   "source": [
    "kmeans = KMeans(n_clusters=4, random_state=10, n_init='auto')\n",
    "kmeans.fit(X_train)"
   ]
  },
  {
   "cell_type": "code",
   "execution_count": 150,
   "metadata": {},
   "outputs": [],
   "source": [
    "X_train_label = kmeans.predict(X_train)\n",
    "\n",
    "X_test_label = kmeans.predict(X_test)"
   ]
  },
  {
   "cell_type": "code",
   "execution_count": 151,
   "metadata": {},
   "outputs": [
    {
     "data": {
      "text/plain": [
       "array([3, 1, 1, 0, 3, 0, 3, 1, 2, 3, 3, 3, 1, 2, 3, 1, 0, 3, 1, 0, 0, 3,\n",
       "       1, 0, 1, 1, 0, 1, 3, 3, 3, 2, 2, 0, 3, 2, 1, 3, 0, 3, 2, 2, 1, 0,\n",
       "       1, 3, 2, 3, 0, 2, 0, 1, 3, 3, 0, 3, 3, 1, 0, 1, 3, 1, 3, 3, 2, 3,\n",
       "       1, 1, 2, 2, 0, 0, 3, 3, 1, 3, 0, 3, 3, 3, 1, 3, 3, 1, 2, 1, 0, 2,\n",
       "       2, 0, 3, 3, 3, 3, 2, 2, 3, 0, 3, 1, 1, 0, 3, 1, 2, 0, 3, 3, 0, 1,\n",
       "       3, 2, 3, 2, 2, 0, 2, 0, 0, 3, 1, 1, 2, 1, 3, 0, 0, 0, 3, 3, 1, 1,\n",
       "       3, 0, 3, 2, 2, 2, 1, 3, 0, 0, 0, 3, 2, 2, 3, 3, 1, 2, 1, 3, 2, 3,\n",
       "       3, 2, 3, 0, 2, 1, 0, 1, 3, 1, 0, 3, 2, 1, 1, 1, 0, 1, 0, 0, 3, 0,\n",
       "       1, 2, 3, 3, 0, 0, 3, 3, 3, 2, 0, 2, 1, 1, 2, 2, 1, 3, 2, 2, 2, 3,\n",
       "       0, 0, 2, 0, 0, 0, 3, 2, 3, 3, 1, 0, 2, 1, 2, 2, 0, 0, 2, 2, 3, 2,\n",
       "       3, 1, 1, 1, 0, 1, 0, 2, 2, 3, 1, 0, 0, 0, 0, 3, 1, 0, 2, 2, 2, 1,\n",
       "       2, 0, 2, 3, 1, 2, 3, 1, 0, 1, 2, 3, 1, 2, 0, 3, 1, 3, 2, 0, 2, 3,\n",
       "       1, 2, 3, 1, 3, 2, 0, 2, 0, 1, 3, 0, 2, 1, 3, 3, 2, 0, 3, 2, 3, 0,\n",
       "       3, 0, 3, 1, 0, 0, 3, 0, 1, 2, 3, 3, 2, 1, 3], dtype=int32)"
      ]
     },
     "execution_count": 151,
     "metadata": {},
     "output_type": "execute_result"
    }
   ],
   "source": [
    "X_train_label"
   ]
  },
  {
   "cell_type": "code",
   "execution_count": 152,
   "metadata": {},
   "outputs": [
    {
     "data": {
      "text/plain": [
       "array([0, 3, 0, 2, 1, 0, 1, 1, 2, 3, 3, 2, 1, 2, 3, 1, 2, 2, 1, 3, 3, 0,\n",
       "       0, 1, 0, 2, 2, 3, 1, 1, 2, 1, 1, 2, 3, 1, 1, 2, 1, 3, 0, 1, 2, 3,\n",
       "       1, 0, 3, 1, 1, 2, 1, 0, 0, 2], dtype=int32)"
      ]
     },
     "execution_count": 152,
     "metadata": {},
     "output_type": "execute_result"
    }
   ],
   "source": [
    "X_test_label"
   ]
  },
  {
   "cell_type": "code",
   "execution_count": 153,
   "metadata": {},
   "outputs": [
    {
     "name": "stdout",
     "output_type": "stream",
     "text": [
      "len k0: 10\n",
      "len k1: 19\n",
      "len k2: 14\n",
      "len k3: 11\n"
     ]
    }
   ],
   "source": [
    "k0 = np.where(X_train_label == 0)\n",
    "k1 = np.where(X_train_label == 1)\n",
    "k2 = np.where(X_train_label == 2)\n",
    "k3 = np.where(X_train_label == 3)\n",
    "X_train_0 = X_train[k0]\n",
    "X_train_1 = X_train[k1]\n",
    "X_train_2 = X_train[k2]\n",
    "X_train_3 = X_train[k3]\n",
    "\n",
    "y_train_0 = y_train[k0]\n",
    "y_train_1 = y_train[k1]\n",
    "y_train_2 = y_train[k2]\n",
    "y_train_3 = y_train[k3]\n",
    "\n",
    "k0 = np.where(X_test_label == 0)\n",
    "k1 = np.where(X_test_label == 1)\n",
    "k2 = np.where(X_test_label == 2)\n",
    "k3 = np.where(X_test_label == 3)\n",
    "X_test_0 = X_test[k0]\n",
    "X_test_1 = X_test[k1]\n",
    "X_test_2 = X_test[k2]\n",
    "X_test_3 = X_test[k3]\n",
    "\n",
    "y_test_0 = y_test[k0]\n",
    "y_test_1 = y_test[k1]\n",
    "y_test_2 = y_test[k2]\n",
    "y_test_3 = y_test[k3]\n",
    "\n",
    "print('len k0:', len(y_test_0))\n",
    "print('len k1:', len(y_test_1))\n",
    "print('len k2:', len(y_test_2))\n",
    "print('len k3:', len(y_test_3))"
   ]
  },
  {
   "cell_type": "code",
   "execution_count": 154,
   "metadata": {},
   "outputs": [],
   "source": [
    "X_train_filtered_0 = np.array(savgol_filter(X_train_0, 10, 4))\n",
    "X_train_filtered_1 = np.array(savgol_filter(X_train_1, 10, 4))\n",
    "X_train_filtered_2 = np.array(savgol_filter(X_train_2, 10, 4))\n",
    "X_train_filtered_3 = np.array(savgol_filter(X_train_3, 10, 4))\n",
    "\n",
    "y_train_filtered_0 = np.array(savgol_filter(y_train_0, 10, 4))\n",
    "y_train_filtered_1 = np.array(savgol_filter(y_train_1, 10, 4))\n",
    "y_train_filtered_2 = np.array(savgol_filter(y_train_2, 10, 4))\n",
    "y_train_filtered_3 = np.array(savgol_filter(y_train_3, 10, 4))\n",
    "\n",
    "X_test_filtered_0 = np.array(savgol_filter(X_test_0, 10, 4))\n",
    "X_test_filtered_1 = np.array(savgol_filter(X_test_1, 10, 4))\n",
    "X_test_filtered_2 = np.array(savgol_filter(X_test_2, 10, 4))\n",
    "X_test_filtered_3 = np.array(savgol_filter(X_test_3, 10, 4))\n",
    "\n",
    "y_test_filtered_0 = np.array(savgol_filter(y_test_0, 10, 4))\n",
    "y_test_filtered_1 = np.array(savgol_filter(y_test_1, 10, 4))\n",
    "y_test_filtered_2 = np.array(savgol_filter(y_test_2, 10, 4))\n",
    "y_test_filtered_3 = np.array(savgol_filter(y_test_3, 10, 4))"
   ]
  },
  {
   "cell_type": "code",
   "execution_count": 155,
   "metadata": {},
   "outputs": [
    {
     "data": {
      "image/png": "[encoded data removed]",
      "text/plain": [
       "<Figure size 1600x600 with 1 Axes>"
      ]
     },
     "metadata": {},
     "output_type": "display_data"
    }
   ],
   "source": [
    "plt.figure(figsize=(16, 6))\n",
    "X = np.arange(1, 97, 1)\n",
    "y0 = y_train_filtered_0[0]\n",
    "y1 = y_train_0[0]\n",
    "plt.plot(X, y0)\n",
    "plt.plot(X, y1)\n",
    "plt.show()"
   ]
  },
  {
   "cell_type": "code",
   "execution_count": 156,
   "metadata": {},
   "outputs": [],
   "source": [
    "X_train_residual_0 = X_train_0 - X_train_filtered_0\n",
    "X_train_residual_1 = X_train_1 - X_train_filtered_1\n",
    "X_train_residual_2 = X_train_2 - X_train_filtered_2\n",
    "X_train_residual_3 = X_train_3 - X_train_filtered_3\n",
    "\n",
    "y_train_residual_0 = y_train_0 - y_train_filtered_0\n",
    "y_train_residual_1 = y_train_1 - y_train_filtered_1\n",
    "y_train_residual_2 = y_train_2 - y_train_filtered_2\n",
    "y_train_residual_3 = y_train_3 - y_train_filtered_3\n",
    "\n",
    "\n",
    "X_test_residual_0 = X_test_0 - X_test_filtered_0\n",
    "X_test_residual_1 = X_test_1 - X_test_filtered_1\n",
    "X_test_residual_2 = X_test_2 - X_test_filtered_2\n",
    "X_test_residual_3 = X_test_3 - X_test_filtered_3\n",
    "\n",
    "y_test_residual_0 = y_test_0 - y_test_filtered_0\n",
    "y_test_residual_1 = y_test_1 - y_test_filtered_1\n",
    "y_test_residual_2 = y_test_2 - y_test_filtered_2\n",
    "y_test_residual_3 = y_test_3 - y_test_filtered_3\n"
   ]
  },
  {
   "cell_type": "code",
   "execution_count": 157,
   "metadata": {},
   "outputs": [],
   "source": [
    "# param_dist = {\n",
    "#     'max_depth': randint(7, 11),\n",
    "#     'min_child_weight': randint(7, 12),\n",
    "#     'learning_rate': uniform(0.01, 0.2),\n",
    "#     'n_estimators': randint(110, 150)\n",
    "# }\n",
    "\n",
    "# xgboost0 = xgb.XGBRegressor(objective='reg:squarederror')\n",
    "# random_search0 = RandomizedSearchCV(estimator=xgboost0, param_distributions=param_dist, n_iter=50, cv=3, verbose=2, random_state=42, n_jobs=-1)\n",
    "# random_search0.fit(X_train_residual_0, y_train_residual_0)\n",
    "\n",
    "# xgboost1 = xgb.XGBRegressor(objective='reg:squarederror',)\n",
    "# random_search1 = RandomizedSearchCV(estimator=xgboost1, param_distributions=param_dist, n_iter=50, cv=3, verbose=2, random_state=42, n_jobs=-1)\n",
    "# random_search1.fit(X_train_residual_1, y_train_residual_1)\n",
    "\n",
    "# xgboost2 = xgb.XGBRegressor(objective='reg:squarederror',)\n",
    "# random_search2 = RandomizedSearchCV(estimator=xgboost2, param_distributions=param_dist, n_iter=50, cv=3, verbose=2, random_state=42, n_jobs=-1)\n",
    "# random_search2.fit(X_train_residual_2, y_train_residual_2)\n",
    "\n",
    "# xgboost3 = xgb.XGBRegressor(objective='reg:squarederror',)\n",
    "# random_search3 = RandomizedSearchCV(estimator=xgboost3, param_distributions=param_dist, n_iter=50, cv=3, verbose=2, random_state=42, n_jobs=-1)\n",
    "# random_search3.fit(X_train_residual_3, y_train_residual_3)\n",
    "\n",
    "\n",
    "# print(\"random_search0 Best parameters:\", random_search0.best_params_)\n",
    "# print(\"random_search0 Best score:\", random_search0.best_score_)\n",
    "# print(\"\\n\")\n",
    "\n",
    "# print(\"random_search1 Best parameters:\", random_search1.best_params_)\n",
    "# print(\"random_search1 Best score:\", random_search1.best_score_)\n",
    "# print(\"\\n\")\n",
    "\n",
    "# print(\"random_search2 Best parameters:\", random_search2.best_params_)\n",
    "# print(\"random_search2 Best score:\", random_search2.best_score_)\n",
    "# print(\"\\n\")\n",
    "\n",
    "# print(\"random_search3 Best parameters:\", random_search3.best_params_)\n",
    "# print(\"random_search3 Best score:\", random_search3.best_score_)\n",
    "# print(\"\\n\")\n",
    "\n",
    "\n",
    "# random_search0 Best parameters: {'learning_rate': 0.02631883608004807, 'max_depth': 9, 'min_child_weight': 9, 'n_estimators': 135}\n",
    "# random_search0 Best score: -0.1972308915781639\n",
    "# random_search0 Best parameters: {'learning_rate': 0.01110442342472048, 'max_depth': 9, 'min_child_weight': 9, 'n_estimators': 126}\n",
    "# random_search0 Best score: -0.101390045484775\n"
   ]
  },
  {
   "cell_type": "code",
   "execution_count": 158,
   "metadata": {},
   "outputs": [
    {
     "data": {
      "text/html": [
       "<style>#sk-container-id-13 {color: black;}#sk-container-id-13 pre{padding: 0;}#sk-container-id-13 div.sk-toggleable {background-color: white;}#sk-container-id-13 label.sk-toggleable__label {cursor: pointer;display: block;width: 100%;margin-bottom: 0;padding: 0.3em;box-sizing: border-box;text-align: center;}#sk-container-id-13 label.sk-toggleable__label-arrow:before {content: \"▸\";float: left;margin-right: 0.25em;color: #696969;}#sk-container-id-13 label.sk-toggleable__label-arrow:hover:before {color: black;}#sk-container-id-13 div.sk-estimator:hover label.sk-toggleable__label-arrow:before {color: black;}#sk-container-id-13 div.sk-toggleable__content {max-height: 0;max-width: 0;overflow: hidden;text-align: left;background-color: #f0f8ff;}#sk-container-id-13 div.sk-toggleable__content pre {margin: 0.2em;color: black;border-radius: 0.25em;background-color: #f0f8ff;}#sk-container-id-13 input.sk-toggleable__control:checked~div.sk-toggleable__content {max-height: 200px;max-width: 100%;overflow: auto;}#sk-container-id-13 input.sk-toggleable__control:checked~label.sk-toggleable__label-arrow:before {content: \"▾\";}#sk-container-id-13 div.sk-estimator input.sk-toggleable__control:checked~label.sk-toggleable__label {background-color: #d4ebff;}#sk-container-id-13 div.sk-label input.sk-toggleable__control:checked~label.sk-toggleable__label {background-color: #d4ebff;}#sk-container-id-13 input.sk-hidden--visually {border: 0;clip: rect(1px 1px 1px 1px);clip: rect(1px, 1px, 1px, 1px);height: 1px;margin: -1px;overflow: hidden;padding: 0;position: absolute;width: 1px;}#sk-container-id-13 div.sk-estimator {font-family: monospace;background-color: #f0f8ff;border: 1px dotted black;border-radius: 0.25em;box-sizing: border-box;margin-bottom: 0.5em;}#sk-container-id-13 div.sk-estimator:hover {background-color: #d4ebff;}#sk-container-id-13 div.sk-parallel-item::after {content: \"\";width: 100%;border-bottom: 1px solid gray;flex-grow: 1;}#sk-container-id-13 div.sk-label:hover label.sk-toggleable__label {background-color: #d4ebff;}#sk-container-id-13 div.sk-serial::before {content: \"\";position: absolute;border-left: 1px solid gray;box-sizing: border-box;top: 0;bottom: 0;left: 50%;z-index: 0;}#sk-container-id-13 div.sk-serial {display: flex;flex-direction: column;align-items: center;background-color: white;padding-right: 0.2em;padding-left: 0.2em;position: relative;}#sk-container-id-13 div.sk-item {position: relative;z-index: 1;}#sk-container-id-13 div.sk-parallel {display: flex;align-items: stretch;justify-content: center;background-color: white;position: relative;}#sk-container-id-13 div.sk-item::before, #sk-container-id-13 div.sk-parallel-item::before {content: \"\";position: absolute;border-left: 1px solid gray;box-sizing: border-box;top: 0;bottom: 0;left: 50%;z-index: -1;}#sk-container-id-13 div.sk-parallel-item {display: flex;flex-direction: column;z-index: 1;position: relative;background-color: white;}#sk-container-id-13 div.sk-parallel-item:first-child::after {align-self: flex-end;width: 50%;}#sk-container-id-13 div.sk-parallel-item:last-child::after {align-self: flex-start;width: 50%;}#sk-container-id-13 div.sk-parallel-item:only-child::after {width: 0;}#sk-container-id-13 div.sk-dashed-wrapped {border: 1px dashed gray;margin: 0 0.4em 0.5em 0.4em;box-sizing: border-box;padding-bottom: 0.4em;background-color: white;}#sk-container-id-13 div.sk-label label {font-family: monospace;font-weight: bold;display: inline-block;line-height: 1.2em;}#sk-container-id-13 div.sk-label-container {text-align: center;}#sk-container-id-13 div.sk-container {/* jupyter's `normalize.less` sets `[hidden] { display: none; }` but bootstrap.min.css set `[hidden] { display: none !important; }` so we also need the `!important` here to be able to override the default hidden behavior on the sphinx rendered scikit-learn.org. See: https://github.com/scikit-learn/scikit-learn/issues/21755 */display: inline-block !important;position: relative;}#sk-container-id-13 div.sk-text-repr-fallback {display: none;}</style><div id=\"sk-container-id-13\" class=\"sk-top-container\"><div class=\"sk-text-repr-fallback\"><pre>XGBRegressor(base_score=None, booster=None, callbacks=None,\n",
       "             colsample_bylevel=None, colsample_bynode=None,\n",
       "             colsample_bytree=None, device=None, early_stopping_rounds=None,\n",
       "             enable_categorical=False, eval_metric=None, feature_types=None,\n",
       "             gamma=None, grow_policy=None, importance_type=None,\n",
       "             interaction_constraints=None, learning_rate=0.01110442342472048,\n",
       "             max_bin=None, max_cat_threshold=None, max_cat_to_onehot=None,\n",
       "             max_delta_step=None, max_depth=9, max_leaves=None,\n",
       "             min_child_weight=9, missing=nan, monotone_constraints=None,\n",
       "             multi_strategy=None, n_estimators=126, n_jobs=None,\n",
       "             num_parallel_tree=None, random_state=None, ...)</pre><b>In a Jupyter environment, please rerun this cell to show the HTML representation or trust the notebook. <br />On GitHub, the HTML representation is unable to render, please try loading this page with nbviewer.org.</b></div><div class=\"sk-container\" hidden><div class=\"sk-item\"><div class=\"sk-estimator sk-toggleable\"><input class=\"sk-toggleable__control sk-hidden--visually\" id=\"sk-estimator-id-17\" type=\"checkbox\" checked><label for=\"sk-estimator-id-17\" class=\"sk-toggleable__label sk-toggleable__label-arrow\">XGBRegressor</label><div class=\"sk-toggleable__content\"><pre>XGBRegressor(base_score=None, booster=None, callbacks=None,\n",
       "             colsample_bylevel=None, colsample_bynode=None,\n",
       "             colsample_bytree=None, device=None, early_stopping_rounds=None,\n",
       "             enable_categorical=False, eval_metric=None, feature_types=None,\n",
       "             gamma=None, grow_policy=None, importance_type=None,\n",
       "             interaction_constraints=None, learning_rate=0.01110442342472048,\n",
       "             max_bin=None, max_cat_threshold=None, max_cat_to_onehot=None,\n",
       "             max_delta_step=None, max_depth=9, max_leaves=None,\n",
       "             min_child_weight=9, missing=nan, monotone_constraints=None,\n",
       "             multi_strategy=None, n_estimators=126, n_jobs=None,\n",
       "             num_parallel_tree=None, random_state=None, ...)</pre></div></div></div></div></div>"
      ],
      "text/plain": [
       "XGBRegressor(base_score=None, booster=None, callbacks=None,\n",
       "             colsample_bylevel=None, colsample_bynode=None,\n",
       "             colsample_bytree=None, device=None, early_stopping_rounds=None,\n",
       "             enable_categorical=False, eval_metric=None, feature_types=None,\n",
       "             gamma=None, grow_policy=None, importance_type=None,\n",
       "             interaction_constraints=None, learning_rate=0.01110442342472048,\n",
       "             max_bin=None, max_cat_threshold=None, max_cat_to_onehot=None,\n",
       "             max_delta_step=None, max_depth=9, max_leaves=None,\n",
       "             min_child_weight=9, missing=nan, monotone_constraints=None,\n",
       "             multi_strategy=None, n_estimators=126, n_jobs=None,\n",
       "             num_parallel_tree=None, random_state=None, ...)"
      ]
     },
     "execution_count": 158,
     "metadata": {},
     "output_type": "execute_result"
    }
   ],
   "source": [
    "xgboost0 = xgb.XGBRegressor(\n",
    "    objective='reg:squarederror',\n",
    "    learning_rate=0.01110442342472048,\n",
    "    max_depth=9,\n",
    "    min_child_weight=9,\n",
    "    n_estimators=126,\n",
    ")\n",
    "xgboost0.fit(X_train_residual_0, y_train_residual_0)\n",
    "\n",
    "xgboost1 = xgb.XGBRegressor(\n",
    "    objective='reg:squarederror',\n",
    "    learning_rate=0.01110442342472048,\n",
    "    max_depth=9,\n",
    "    min_child_weight=9,\n",
    "    n_estimators=126,\n",
    ")\n",
    "xgboost1.fit(X_train_residual_1, y_train_residual_1)\n",
    "\n",
    "xgboost2 = xgb.XGBRegressor(\n",
    "    objective='reg:squarederror',\n",
    "    learning_rate=0.01110442342472048,\n",
    "    max_depth=9,\n",
    "    min_child_weight=9,\n",
    "    n_estimators=126,\n",
    ")\n",
    "xgboost2.fit(X_train_residual_2, y_train_residual_2)\n",
    "\n",
    "xgboost3 = xgb.XGBRegressor(\n",
    "    objective='reg:squarederror',\n",
    "    learning_rate=0.01110442342472048,\n",
    "    max_depth=9,\n",
    "    min_child_weight=9,\n",
    "    n_estimators=126,\n",
    ")\n",
    "xgboost3.fit(X_train_residual_3, y_train_residual_3)"
   ]
  },
  {
   "cell_type": "code",
   "execution_count": 159,
   "metadata": {},
   "outputs": [],
   "source": [
    "# param_dist = {\n",
    "#     'estimator__C': reciprocal(0.0001, 0.1),\n",
    "#     'estimator__epsilon': expon(scale=0.1)\n",
    "# }\n",
    "\n",
    "# svr0 = SVR(kernel='rbf')\n",
    "# multioutput_svr0 = MultiOutputRegressor(svr0)\n",
    "# random_search0 = RandomizedSearchCV(estimator=multioutput_svr0, param_distributions=param_dist, n_iter=300, cv=4, verbose=2, random_state=42, n_jobs=-1)\n",
    "# random_search0.fit(X_train_filtered_0, y_train_filtered_0)\n",
    "\n",
    "# svr1 = SVR(kernel='rbf')\n",
    "# multioutput_svr1 = MultiOutputRegressor(svr1)\n",
    "# random_search1 = RandomizedSearchCV(estimator=multioutput_svr1, param_distributions=param_dist, n_iter=300, cv=4, verbose=2, random_state=42, n_jobs=-1)\n",
    "# random_search1.fit(X_train_filtered_1, y_train_filtered_1)\n",
    "\n",
    "# svr2 = SVR(kernel='rbf')\n",
    "# multioutput_svr2 = MultiOutputRegressor(svr2)\n",
    "# random_search2 = RandomizedSearchCV(estimator=multioutput_svr2, param_distributions=param_dist, n_iter=300, cv=4, verbose=2, random_state=42, n_jobs=-1)\n",
    "# random_search2.fit(X_train_filtered_2, y_train_filtered_2)\n",
    "\n",
    "# svr3 = SVR(kernel='rbf')\n",
    "# multioutput_svr3 = MultiOutputRegressor(svr3)\n",
    "# random_search3 = RandomizedSearchCV(estimator=multioutput_svr3, param_distributions=param_dist, n_iter=300, cv=4, verbose=2, random_state=42, n_jobs=-1)\n",
    "# random_search3.fit(X_train_filtered_3, y_train_filtered_3)\n",
    "\n",
    "# print(\"random_search0 Best parameters:\", random_search0.best_params_)\n",
    "# print(\"random_search0 Best score:\", random_search0.best_score_)\n",
    "# print(\"\\n\")\n",
    "\n",
    "# print(\"random_search1 Best parameters:\", random_search1.best_params_)\n",
    "# print(\"random_search1 Best score:\", random_search1.best_score_)\n",
    "# print(\"\\n\")\n",
    "\n",
    "# print(\"random_search2 Best parameters:\", random_search2.best_params_)\n",
    "# print(\"random_search2 Best score:\", random_search2.best_score_)\n",
    "# print(\"\\n\")\n",
    "\n",
    "# print(\"random_search3 Best parameters:\", random_search3.best_params_)\n",
    "# print(\"random_search3 Best score:\", random_search3.best_score_)\n",
    "# print(\"\\n\")\n",
    "\n",
    "# Search 1\n",
    "# random_search0 Best parameters: {'estimator__C': 0.14290425609432092, 'estimator__epsilon': 0.0757908940625521}\n",
    "# random_search0 Best score: 0.010465281631274859\n",
    "\n",
    "# random_search1 Best parameters: {'estimator__C': 0.2946531769463084, 'estimator__epsilon': 0.028800598912658362}\n",
    "# random_search1 Best score: 0.07539735351261828\n",
    "\n",
    "# random_search2 Best parameters: {'estimator__C': 0.24217957731734735, 'estimator__epsilon': 0.016475990155667298}\n",
    "# random_search2 Best score: 0.24463709181800597\n",
    "\n",
    "# random_search3 Best parameters: {'estimator__C': 0.10815856940648103, 'estimator__epsilon': 0.06323543695829263}\n",
    "# random_search3 Best score: -0.09922169044601128\n",
    "\n"
   ]
  },
  {
   "cell_type": "code",
   "execution_count": 160,
   "metadata": {},
   "outputs": [
    {
     "data": {
      "text/html": [
       "<style>#sk-container-id-14 {color: black;}#sk-container-id-14 pre{padding: 0;}#sk-container-id-14 div.sk-toggleable {background-color: white;}#sk-container-id-14 label.sk-toggleable__label {cursor: pointer;display: block;width: 100%;margin-bottom: 0;padding: 0.3em;box-sizing: border-box;text-align: center;}#sk-container-id-14 label.sk-toggleable__label-arrow:before {content: \"▸\";float: left;margin-right: 0.25em;color: #696969;}#sk-container-id-14 label.sk-toggleable__label-arrow:hover:before {color: black;}#sk-container-id-14 div.sk-estimator:hover label.sk-toggleable__label-arrow:before {color: black;}#sk-container-id-14 div.sk-toggleable__content {max-height: 0;max-width: 0;overflow: hidden;text-align: left;background-color: #f0f8ff;}#sk-container-id-14 div.sk-toggleable__content pre {margin: 0.2em;color: black;border-radius: 0.25em;background-color: #f0f8ff;}#sk-container-id-14 input.sk-toggleable__control:checked~div.sk-toggleable__content {max-height: 200px;max-width: 100%;overflow: auto;}#sk-container-id-14 input.sk-toggleable__control:checked~label.sk-toggleable__label-arrow:before {content: \"▾\";}#sk-container-id-14 div.sk-estimator input.sk-toggleable__control:checked~label.sk-toggleable__label {background-color: #d4ebff;}#sk-container-id-14 div.sk-label input.sk-toggleable__control:checked~label.sk-toggleable__label {background-color: #d4ebff;}#sk-container-id-14 input.sk-hidden--visually {border: 0;clip: rect(1px 1px 1px 1px);clip: rect(1px, 1px, 1px, 1px);height: 1px;margin: -1px;overflow: hidden;padding: 0;position: absolute;width: 1px;}#sk-container-id-14 div.sk-estimator {font-family: monospace;background-color: #f0f8ff;border: 1px dotted black;border-radius: 0.25em;box-sizing: border-box;margin-bottom: 0.5em;}#sk-container-id-14 div.sk-estimator:hover {background-color: #d4ebff;}#sk-container-id-14 div.sk-parallel-item::after {content: \"\";width: 100%;border-bottom: 1px solid gray;flex-grow: 1;}#sk-container-id-14 div.sk-label:hover label.sk-toggleable__label {background-color: #d4ebff;}#sk-container-id-14 div.sk-serial::before {content: \"\";position: absolute;border-left: 1px solid gray;box-sizing: border-box;top: 0;bottom: 0;left: 50%;z-index: 0;}#sk-container-id-14 div.sk-serial {display: flex;flex-direction: column;align-items: center;background-color: white;padding-right: 0.2em;padding-left: 0.2em;position: relative;}#sk-container-id-14 div.sk-item {position: relative;z-index: 1;}#sk-container-id-14 div.sk-parallel {display: flex;align-items: stretch;justify-content: center;background-color: white;position: relative;}#sk-container-id-14 div.sk-item::before, #sk-container-id-14 div.sk-parallel-item::before {content: \"\";position: absolute;border-left: 1px solid gray;box-sizing: border-box;top: 0;bottom: 0;left: 50%;z-index: -1;}#sk-container-id-14 div.sk-parallel-item {display: flex;flex-direction: column;z-index: 1;position: relative;background-color: white;}#sk-container-id-14 div.sk-parallel-item:first-child::after {align-self: flex-end;width: 50%;}#sk-container-id-14 div.sk-parallel-item:last-child::after {align-self: flex-start;width: 50%;}#sk-container-id-14 div.sk-parallel-item:only-child::after {width: 0;}#sk-container-id-14 div.sk-dashed-wrapped {border: 1px dashed gray;margin: 0 0.4em 0.5em 0.4em;box-sizing: border-box;padding-bottom: 0.4em;background-color: white;}#sk-container-id-14 div.sk-label label {font-family: monospace;font-weight: bold;display: inline-block;line-height: 1.2em;}#sk-container-id-14 div.sk-label-container {text-align: center;}#sk-container-id-14 div.sk-container {/* jupyter's `normalize.less` sets `[hidden] { display: none; }` but bootstrap.min.css set `[hidden] { display: none !important; }` so we also need the `!important` here to be able to override the default hidden behavior on the sphinx rendered scikit-learn.org. See: https://github.com/scikit-learn/scikit-learn/issues/21755 */display: inline-block !important;position: relative;}#sk-container-id-14 div.sk-text-repr-fallback {display: none;}</style><div id=\"sk-container-id-14\" class=\"sk-top-container\"><div class=\"sk-text-repr-fallback\"><pre>MultiOutputRegressor(estimator=SVR(C=0.10815856940648103,\n",
       "                                   epsilon=0.06323543695829263))</pre><b>In a Jupyter environment, please rerun this cell to show the HTML representation or trust the notebook. <br />On GitHub, the HTML representation is unable to render, please try loading this page with nbviewer.org.</b></div><div class=\"sk-container\" hidden><div class=\"sk-item sk-dashed-wrapped\"><div class=\"sk-label-container\"><div class=\"sk-label sk-toggleable\"><input class=\"sk-toggleable__control sk-hidden--visually\" id=\"sk-estimator-id-18\" type=\"checkbox\" ><label for=\"sk-estimator-id-18\" class=\"sk-toggleable__label sk-toggleable__label-arrow\">MultiOutputRegressor</label><div class=\"sk-toggleable__content\"><pre>MultiOutputRegressor(estimator=SVR(C=0.10815856940648103,\n",
       "                                   epsilon=0.06323543695829263))</pre></div></div></div><div class=\"sk-parallel\"><div class=\"sk-parallel-item\"><div class=\"sk-item\"><div class=\"sk-label-container\"><div class=\"sk-label sk-toggleable\"><input class=\"sk-toggleable__control sk-hidden--visually\" id=\"sk-estimator-id-19\" type=\"checkbox\" ><label for=\"sk-estimator-id-19\" class=\"sk-toggleable__label sk-toggleable__label-arrow\">estimator: SVR</label><div class=\"sk-toggleable__content\"><pre>SVR(C=0.10815856940648103, epsilon=0.06323543695829263)</pre></div></div></div><div class=\"sk-serial\"><div class=\"sk-item\"><div class=\"sk-estimator sk-toggleable\"><input class=\"sk-toggleable__control sk-hidden--visually\" id=\"sk-estimator-id-20\" type=\"checkbox\" ><label for=\"sk-estimator-id-20\" class=\"sk-toggleable__label sk-toggleable__label-arrow\">SVR</label><div class=\"sk-toggleable__content\"><pre>SVR(C=0.10815856940648103, epsilon=0.06323543695829263)</pre></div></div></div></div></div></div></div></div></div></div>"
      ],
      "text/plain": [
       "MultiOutputRegressor(estimator=SVR(C=0.10815856940648103,\n",
       "                                   epsilon=0.06323543695829263))"
      ]
     },
     "execution_count": 160,
     "metadata": {},
     "output_type": "execute_result"
    }
   ],
   "source": [
    "svr0 = SVR(kernel='rbf', C=0.14290425609432092, epsilon=0.0757908940625521)\n",
    "multioutput_svr0 = MultiOutputRegressor(svr0)\n",
    "multioutput_svr0.fit(X_train_filtered_0, y_train_filtered_0)\n",
    "\n",
    "svr1 = SVR(kernel='rbf', C=0.2946531769463084, epsilon=0.028800598912658362)\n",
    "multioutput_svr1 = MultiOutputRegressor(svr1)\n",
    "multioutput_svr1.fit(X_train_filtered_1, y_train_filtered_1)\n",
    "\n",
    "svr2 = SVR(kernel='rbf', C=0.24217957731734735, epsilon=0.016475990155667298)\n",
    "multioutput_svr2 = MultiOutputRegressor(svr2)\n",
    "multioutput_svr2.fit(X_train_filtered_2, y_train_filtered_2)\n",
    "\n",
    "svr3 = SVR(kernel='rbf', C=0.10815856940648103, epsilon=0.06323543695829263)\n",
    "multioutput_svr3 = MultiOutputRegressor(svr3)\n",
    "multioutput_svr3.fit(X_train_filtered_3, y_train_filtered_3)"
   ]
  },
  {
   "cell_type": "code",
   "execution_count": 161,
   "metadata": {},
   "outputs": [],
   "source": [
    "pred_svr0 = multioutput_svr0.predict(X_test_filtered_0)\n",
    "pred_xgboost0 = xgboost0.predict(X_test_residual_0)\n",
    "\n",
    "pred_svr1 = multioutput_svr1.predict(X_test_filtered_1)\n",
    "pred_xgboost1 = xgboost1.predict(X_test_residual_1)\n",
    "\n",
    "pred_svr2 = multioutput_svr2.predict(X_test_filtered_2)\n",
    "pred_xgboost2 = xgboost2.predict(X_test_residual_2)\n",
    "\n",
    "pred_svr3 = multioutput_svr3.predict(X_test_filtered_3)\n",
    "pred_xgboost3 = xgboost3.predict(X_test_residual_3)"
   ]
  },
  {
   "cell_type": "code",
   "execution_count": 162,
   "metadata": {},
   "outputs": [
    {
     "name": "stdout",
     "output_type": "stream",
     "text": [
      "--------------------------------------------------------------------------------------\n",
      "Testing Loss: 0.0079\n",
      "--------------------------------------------------------------------------------------\n"
     ]
    }
   ],
   "source": [
    "y_pred_0 = pred_svr0 + pred_xgboost0\n",
    "y_pred_1 = pred_svr1 + pred_xgboost1\n",
    "y_pred_2 = pred_svr2 + pred_xgboost2\n",
    "y_pred_3 = pred_svr3 + pred_xgboost3\n",
    "\n",
    "y_pred = np.concatenate([y_pred_0, y_pred_1, y_pred_2, y_pred_3], axis=0)\n",
    "y_test_clustered = np.concatenate([y_test_0, y_test_1, y_test_2, y_test_3], axis=0)\n",
    "loss = mean_squared_error(y_test_clustered, y_pred)\n",
    "\n",
    "print(\"-\" * 86)\n",
    "print(f'Testing Loss: {loss:.4f}')\n",
    "print(\"-\" * 86)\n",
    "\n",
    "pred_data = scaler.inverse_transform(y_pred)\n",
    "actual_data = scaler.inverse_transform(y_test_clustered)\n",
    "for i in range(actual_data.shape[0]):\n",
    "    plt.figure(figsize=(16, 6))\n",
    "    X = np.arange(1, actual_data.shape[1]+1, 1)\n",
    "    y_p = pred_data[i]\n",
    "    y_a = actual_data[i]\n",
    "    plt.title(f\"Day {i+1} prediction\")\n",
    "    plt.plot(X, y_p, label='Predict')\n",
    "    plt.plot(X, y_a, label='Actual')\n",
    "    plt.ylim(0, maxValue)\n",
    "    plt.xlabel('Time step')\n",
    "    plt.ylabel('Usage (kWh)')\n",
    "    plt.legend()\n",
    "    plt.savefig(TEST_PLOT_DIR+f\"Day{i+1}.png\")\n",
    "    plt.close()\n",
    "\n",
    "\n",
    "    "
   ]
  },
  {
   "cell_type": "code",
   "execution_count": 163,
   "metadata": {},
   "outputs": [
    {
     "name": "stderr",
     "output_type": "stream",
     "text": [
      "/Users/elviswu/miniconda3/envs/tf/lib/python3.11/site-packages/xgboost/core.py:160: UserWarning: [16:41:57] WARNING: /Users/runner/work/xgboost/xgboost/src/c_api/c_api.cc:1240: Saving into deprecated binary model format, please consider using `json` or `ubj`. Model format will default to JSON in XGBoost 2.2 if not specified.\n",
      "  warnings.warn(smsg, UserWarning)\n"
     ]
    },
    {
     "data": {
      "text/plain": [
       "['scaler.joblib']"
      ]
     },
     "execution_count": 163,
     "metadata": {},
     "output_type": "execute_result"
    }
   ],
   "source": [
    "# save the model\n",
    "# xgboost\n",
    "xgboost0.save_model('xgboost0.model')\n",
    "xgboost1.save_model('xgboost1.model')\n",
    "xgboost2.save_model('xgboost2.model')\n",
    "xgboost3.save_model('xgboost3.model')\n",
    "\n",
    "# svr\n",
    "from joblib import dump\n",
    "dump(multioutput_svr0, 'svr0.joblib')\n",
    "dump(multioutput_svr1, 'svr1.joblib')\n",
    "dump(multioutput_svr2, 'svr2.joblib')\n",
    "dump(multioutput_svr3, 'svr3.joblib')\n",
    "\n",
    "# kMeans\n",
    "dump(kmeans, 'kmeans.joblib')\n",
    "dump(scaler, 'scaler.joblib')"
   ]
  }
 ],
 "metadata": {
  "kernelspec": {
   "display_name": "tf",
   "language": "python",
   "name": "python3"
  },
  "language_info": {
   "codemirror_mode": {
    "name": "ipython",
    "version": 3
   },
   "file_extension": ".py",
   "mimetype": "text/x-python",
   "name": "python",
   "nbconvert_exporter": "python",
   "pygments_lexer": "ipython3",
   "version": "3.11.7"
  }
 },
 "nbformat": 4,
 "nbformat_minor": 2
}
