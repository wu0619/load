{
 "cells": [
  {
   "cell_type": "code",
   "execution_count": 27,
   "metadata": {},
   "outputs": [],
   "source": [
    "import numpy as np\n",
    "import pandas as pd\n",
    "import matplotlib.pyplot as plt\n",
    "import os \n",
    "import tensorflow as tf\n",
    "from sklearn.preprocessing import MinMaxScaler\n",
    "from keras.models import load_model, Model\n",
    "from keras.layers import Dense, Conv1D, GRU, Attention, Input, LSTM\n",
    "from keras.callbacks import EarlyStopping"
   ]
  },
  {
   "cell_type": "code",
   "execution_count": 28,
   "metadata": {},
   "outputs": [
    {
     "data": {
      "text/plain": [
       "'2.14.0'"
      ]
     },
     "execution_count": 28,
     "metadata": {},
     "output_type": "execute_result"
    }
   ],
   "source": [
    "tf.__version__"
   ]
  },
  {
   "cell_type": "code",
   "execution_count": 29,
   "metadata": {},
   "outputs": [],
   "source": [
    "# dirs\n",
    "DATA_DIR = \"./load.csv\"\n",
    "TEST_PLOT_DIR = \"./test_plots/GRU/\"\n",
    "MODEL_FILE_DIR = \"./model/GRU.keras\"\n",
    "TRAINING_HISTORY_DIR = \"./training_history/GRU.png\""
   ]
  },
  {
   "cell_type": "code",
   "execution_count": 30,
   "metadata": {},
   "outputs": [],
   "source": [
    "# constants\n",
    "PREDICT_STEP = 10\n",
    "INPUT_STEP = 192\n",
    "\n",
    "N_FEATURE = 1\n",
    "N_OUPUT = 1"
   ]
  },
  {
   "cell_type": "code",
   "execution_count": 31,
   "metadata": {},
   "outputs": [],
   "source": [
    "if not os.path.exists(TEST_PLOT_DIR):\n",
    "    os.makedirs(TEST_PLOT_DIR)\n",
    "if not os.path.exists(\"./model\"):\n",
    "    os.makedirs(\"./model\")\n",
    "if not os.path.exists(\"./training_history\"):\n",
    "    os.makedirs(\"./training_history\")\n"
   ]
  },
  {
   "cell_type": "code",
   "execution_count": 32,
   "metadata": {},
   "outputs": [],
   "source": [
    "# Function to split data into train, validation, and test sets\n",
    "def split_data(df, train_frac=0.75, test_frac=0.15):\n",
    "    # Sort data by year_month\n",
    "    grouped = df.groupby('year_month')\n",
    "\n",
    "    train_data = pd.DataFrame()\n",
    "    test_data = pd.DataFrame()\n",
    "    val_data = pd.DataFrame()\n",
    "\n",
    "    for name, group in grouped:\n",
    "        n = len(group)\n",
    "        train_end = int(train_frac * n)\n",
    "        test_end = train_end + int(test_frac * n)   \n",
    "        train_data = pd.concat([train_data, group.iloc[:train_end]], ignore_index=True)\n",
    "        val_data = pd.concat([val_data, group.iloc[train_end:test_end]], ignore_index=True)\n",
    "        test_data = pd.concat([test_data, group.iloc[test_end:]], ignore_index=True)\n",
    "    # adding time_idx\n",
    "    train_data['time_idx'] = np.arange(len(train_data))\n",
    "    test_data['time_idx'] = np.arange(len(test_data))\n",
    "    val_data['time_idx'] = np.arange(len(val_data))\n",
    "    return train_data, test_data, val_data"
   ]
  },
  {
   "cell_type": "code",
   "execution_count": 33,
   "metadata": {},
   "outputs": [],
   "source": [
    "def create_dataset(dataset, look_back, look_forward):\n",
    "    dataX, dataY = [], []\n",
    "    for i in range(len(dataset)-look_back-look_forward+1):\n",
    "        X = dataset[i:(i+look_back), :]\n",
    "        y = dataset[(i+look_back):(i+look_back+look_forward), 0]\n",
    "        dataX.append(X)\n",
    "        dataY.append(y)\n",
    "    return np.array(dataX), np.array(dataY).reshape(np.array(dataY).shape[0], np.array(dataY).shape[1], 1)"
   ]
  },
  {
   "cell_type": "code",
   "execution_count": 34,
   "metadata": {},
   "outputs": [
    {
     "data": {
      "text/html": [
       "<style>#sk-container-id-3 {color: black;}#sk-container-id-3 pre{padding: 0;}#sk-container-id-3 div.sk-toggleable {background-color: white;}#sk-container-id-3 label.sk-toggleable__label {cursor: pointer;display: block;width: 100%;margin-bottom: 0;padding: 0.3em;box-sizing: border-box;text-align: center;}#sk-container-id-3 label.sk-toggleable__label-arrow:before {content: \"▸\";float: left;margin-right: 0.25em;color: #696969;}#sk-container-id-3 label.sk-toggleable__label-arrow:hover:before {color: black;}#sk-container-id-3 div.sk-estimator:hover label.sk-toggleable__label-arrow:before {color: black;}#sk-container-id-3 div.sk-toggleable__content {max-height: 0;max-width: 0;overflow: hidden;text-align: left;background-color: #f0f8ff;}#sk-container-id-3 div.sk-toggleable__content pre {margin: 0.2em;color: black;border-radius: 0.25em;background-color: #f0f8ff;}#sk-container-id-3 input.sk-toggleable__control:checked~div.sk-toggleable__content {max-height: 200px;max-width: 100%;overflow: auto;}#sk-container-id-3 input.sk-toggleable__control:checked~label.sk-toggleable__label-arrow:before {content: \"▾\";}#sk-container-id-3 div.sk-estimator input.sk-toggleable__control:checked~label.sk-toggleable__label {background-color: #d4ebff;}#sk-container-id-3 div.sk-label input.sk-toggleable__control:checked~label.sk-toggleable__label {background-color: #d4ebff;}#sk-container-id-3 input.sk-hidden--visually {border: 0;clip: rect(1px 1px 1px 1px);clip: rect(1px, 1px, 1px, 1px);height: 1px;margin: -1px;overflow: hidden;padding: 0;position: absolute;width: 1px;}#sk-container-id-3 div.sk-estimator {font-family: monospace;background-color: #f0f8ff;border: 1px dotted black;border-radius: 0.25em;box-sizing: border-box;margin-bottom: 0.5em;}#sk-container-id-3 div.sk-estimator:hover {background-color: #d4ebff;}#sk-container-id-3 div.sk-parallel-item::after {content: \"\";width: 100%;border-bottom: 1px solid gray;flex-grow: 1;}#sk-container-id-3 div.sk-label:hover label.sk-toggleable__label {background-color: #d4ebff;}#sk-container-id-3 div.sk-serial::before {content: \"\";position: absolute;border-left: 1px solid gray;box-sizing: border-box;top: 0;bottom: 0;left: 50%;z-index: 0;}#sk-container-id-3 div.sk-serial {display: flex;flex-direction: column;align-items: center;background-color: white;padding-right: 0.2em;padding-left: 0.2em;position: relative;}#sk-container-id-3 div.sk-item {position: relative;z-index: 1;}#sk-container-id-3 div.sk-parallel {display: flex;align-items: stretch;justify-content: center;background-color: white;position: relative;}#sk-container-id-3 div.sk-item::before, #sk-container-id-3 div.sk-parallel-item::before {content: \"\";position: absolute;border-left: 1px solid gray;box-sizing: border-box;top: 0;bottom: 0;left: 50%;z-index: -1;}#sk-container-id-3 div.sk-parallel-item {display: flex;flex-direction: column;z-index: 1;position: relative;background-color: white;}#sk-container-id-3 div.sk-parallel-item:first-child::after {align-self: flex-end;width: 50%;}#sk-container-id-3 div.sk-parallel-item:last-child::after {align-self: flex-start;width: 50%;}#sk-container-id-3 div.sk-parallel-item:only-child::after {width: 0;}#sk-container-id-3 div.sk-dashed-wrapped {border: 1px dashed gray;margin: 0 0.4em 0.5em 0.4em;box-sizing: border-box;padding-bottom: 0.4em;background-color: white;}#sk-container-id-3 div.sk-label label {font-family: monospace;font-weight: bold;display: inline-block;line-height: 1.2em;}#sk-container-id-3 div.sk-label-container {text-align: center;}#sk-container-id-3 div.sk-container {/* jupyter's `normalize.less` sets `[hidden] { display: none; }` but bootstrap.min.css set `[hidden] { display: none !important; }` so we also need the `!important` here to be able to override the default hidden behavior on the sphinx rendered scikit-learn.org. See: https://github.com/scikit-learn/scikit-learn/issues/21755 */display: inline-block !important;position: relative;}#sk-container-id-3 div.sk-text-repr-fallback {display: none;}</style><div id=\"sk-container-id-3\" class=\"sk-top-container\"><div class=\"sk-text-repr-fallback\"><pre>MinMaxScaler()</pre><b>In a Jupyter environment, please rerun this cell to show the HTML representation or trust the notebook. <br />On GitHub, the HTML representation is unable to render, please try loading this page with nbviewer.org.</b></div><div class=\"sk-container\" hidden><div class=\"sk-item\"><div class=\"sk-estimator sk-toggleable\"><input class=\"sk-toggleable__control sk-hidden--visually\" id=\"sk-estimator-id-3\" type=\"checkbox\" checked><label for=\"sk-estimator-id-3\" class=\"sk-toggleable__label sk-toggleable__label-arrow\">MinMaxScaler</label><div class=\"sk-toggleable__content\"><pre>MinMaxScaler()</pre></div></div></div></div></div>"
      ],
      "text/plain": [
       "MinMaxScaler()"
      ]
     },
     "execution_count": 34,
     "metadata": {},
     "output_type": "execute_result"
    }
   ],
   "source": [
    "data = pd.read_csv(DATA_DIR)\n",
    "# Convert the 'date' column to datetime format\n",
    "data['Timestamp'] = pd.to_datetime(data['Timestamp'], format='%Y/%m/%d %H:%M')\n",
    "\n",
    "# Sort the data by date\n",
    "data.sort_values('Timestamp', inplace=True)\n",
    "\n",
    "# Extract month and year from the date for splitting\n",
    "data['year_month'] = data['Timestamp'].dt.to_period('M')\n",
    "\n",
    "# Splitting the data\n",
    "train_df, test_df, val_df = split_data(data)\n",
    "\n",
    "# create scaler\n",
    "scaler = MinMaxScaler()\n",
    "scaler.fit(np.array(data[\"Load\"]).reshape(-1, 1))"
   ]
  },
  {
   "cell_type": "code",
   "execution_count": 35,
   "metadata": {},
   "outputs": [
    {
     "data": {
      "text/html": [
       "<div>\n",
       "<style scoped>\n",
       "    .dataframe tbody tr th:only-of-type {\n",
       "        vertical-align: middle;\n",
       "    }\n",
       "\n",
       "    .dataframe tbody tr th {\n",
       "        vertical-align: top;\n",
       "    }\n",
       "\n",
       "    .dataframe thead th {\n",
       "        text-align: right;\n",
       "    }\n",
       "</style>\n",
       "<table border=\"1\" class=\"dataframe\">\n",
       "  <thead>\n",
       "    <tr style=\"text-align: right;\">\n",
       "      <th></th>\n",
       "      <th>Timestamp</th>\n",
       "      <th>Load</th>\n",
       "      <th>year_month</th>\n",
       "      <th>time_idx</th>\n",
       "    </tr>\n",
       "  </thead>\n",
       "  <tbody>\n",
       "    <tr>\n",
       "      <th>0</th>\n",
       "      <td>2023-01-01 00:00:00</td>\n",
       "      <td>10.89</td>\n",
       "      <td>2023-01</td>\n",
       "      <td>0</td>\n",
       "    </tr>\n",
       "    <tr>\n",
       "      <th>1</th>\n",
       "      <td>2023-01-01 00:15:00</td>\n",
       "      <td>10.44</td>\n",
       "      <td>2023-01</td>\n",
       "      <td>1</td>\n",
       "    </tr>\n",
       "    <tr>\n",
       "      <th>2</th>\n",
       "      <td>2023-01-01 00:30:00</td>\n",
       "      <td>10.89</td>\n",
       "      <td>2023-01</td>\n",
       "      <td>2</td>\n",
       "    </tr>\n",
       "    <tr>\n",
       "      <th>3</th>\n",
       "      <td>2023-01-01 00:45:00</td>\n",
       "      <td>10.29</td>\n",
       "      <td>2023-01</td>\n",
       "      <td>3</td>\n",
       "    </tr>\n",
       "    <tr>\n",
       "      <th>4</th>\n",
       "      <td>2023-01-01 01:00:00</td>\n",
       "      <td>10.34</td>\n",
       "      <td>2023-01</td>\n",
       "      <td>4</td>\n",
       "    </tr>\n",
       "    <tr>\n",
       "      <th>...</th>\n",
       "      <td>...</td>\n",
       "      <td>...</td>\n",
       "      <td>...</td>\n",
       "      <td>...</td>\n",
       "    </tr>\n",
       "    <tr>\n",
       "      <th>26275</th>\n",
       "      <td>2023-12-24 04:45:00</td>\n",
       "      <td>8.96</td>\n",
       "      <td>2023-12</td>\n",
       "      <td>26275</td>\n",
       "    </tr>\n",
       "    <tr>\n",
       "      <th>26276</th>\n",
       "      <td>2023-12-24 05:00:00</td>\n",
       "      <td>6.90</td>\n",
       "      <td>2023-12</td>\n",
       "      <td>26276</td>\n",
       "    </tr>\n",
       "    <tr>\n",
       "      <th>26277</th>\n",
       "      <td>2023-12-24 05:15:00</td>\n",
       "      <td>8.81</td>\n",
       "      <td>2023-12</td>\n",
       "      <td>26277</td>\n",
       "    </tr>\n",
       "    <tr>\n",
       "      <th>26278</th>\n",
       "      <td>2023-12-24 05:30:00</td>\n",
       "      <td>10.25</td>\n",
       "      <td>2023-12</td>\n",
       "      <td>26278</td>\n",
       "    </tr>\n",
       "    <tr>\n",
       "      <th>26279</th>\n",
       "      <td>2023-12-24 05:45:00</td>\n",
       "      <td>8.16</td>\n",
       "      <td>2023-12</td>\n",
       "      <td>26279</td>\n",
       "    </tr>\n",
       "  </tbody>\n",
       "</table>\n",
       "<p>26280 rows × 4 columns</p>\n",
       "</div>"
      ],
      "text/plain": [
       "                Timestamp   Load year_month  time_idx\n",
       "0     2023-01-01 00:00:00  10.89    2023-01         0\n",
       "1     2023-01-01 00:15:00  10.44    2023-01         1\n",
       "2     2023-01-01 00:30:00  10.89    2023-01         2\n",
       "3     2023-01-01 00:45:00  10.29    2023-01         3\n",
       "4     2023-01-01 01:00:00  10.34    2023-01         4\n",
       "...                   ...    ...        ...       ...\n",
       "26275 2023-12-24 04:45:00   8.96    2023-12     26275\n",
       "26276 2023-12-24 05:00:00   6.90    2023-12     26276\n",
       "26277 2023-12-24 05:15:00   8.81    2023-12     26277\n",
       "26278 2023-12-24 05:30:00  10.25    2023-12     26278\n",
       "26279 2023-12-24 05:45:00   8.16    2023-12     26279\n",
       "\n",
       "[26280 rows x 4 columns]"
      ]
     },
     "metadata": {},
     "output_type": "display_data"
    }
   ],
   "source": [
    "display(train_df)"
   ]
  },
  {
   "cell_type": "code",
   "execution_count": 36,
   "metadata": {},
   "outputs": [],
   "source": [
    "X_train, y_train = create_dataset(scaler.transform(np.array(train_df['Load']).reshape(-1, 1)), INPUT_STEP, PREDICT_STEP)\n",
    "X_val, y_val = create_dataset(scaler.transform(np.array(val_df['Load']).reshape(-1, 1)), INPUT_STEP, PREDICT_STEP)\n",
    "X_test, y_test = create_dataset(scaler.transform(np.array(test_df['Load']).reshape(-1, 1)), INPUT_STEP, PREDICT_STEP)"
   ]
  },
  {
   "cell_type": "code",
   "execution_count": 37,
   "metadata": {},
   "outputs": [
    {
     "name": "stdout",
     "output_type": "stream",
     "text": [
      "--------------------------------------------------------------------------------------\n",
      "X_train: (26073, 192, 1)\n",
      "y_train: (26073, 16, 1)\n",
      "X_val: (5046, 192, 1)\n",
      "y_val: (5046, 16, 1)\n",
      "X_test: (3300, 192, 1)\n",
      "y_test: (3300, 16, 1)\n",
      "--------------------------------------------------------------------------------------\n"
     ]
    }
   ],
   "source": [
    "print(\"-\" * 86)\n",
    "print(f\"X_train: {X_train.shape}\")\n",
    "print(f\"y_train: {y_train.shape}\")\n",
    "print(f\"X_val: {X_val.shape}\")\n",
    "print(f\"y_val: {y_val.shape}\")\n",
    "print(f\"X_test: {X_test.shape}\")\n",
    "print(f\"y_test: {y_test.shape}\")\n",
    "print(\"-\" * 86)"
   ]
  },
  {
   "cell_type": "code",
   "execution_count": 38,
   "metadata": {},
   "outputs": [
    {
     "data": {
      "text/plain": [
       "[PhysicalDevice(name='/physical_device:CPU:0', device_type='CPU'),\n",
       " PhysicalDevice(name='/physical_device:GPU:0', device_type='GPU'),\n",
       " PhysicalDevice(name='/physical_device:GPU:1', device_type='GPU')]"
      ]
     },
     "execution_count": 38,
     "metadata": {},
     "output_type": "execute_result"
    }
   ],
   "source": [
    "tf.config.list_physical_devices()"
   ]
  },
  {
   "cell_type": "code",
   "execution_count": 39,
   "metadata": {},
   "outputs": [
    {
     "name": "stdout",
     "output_type": "stream",
     "text": [
      "WARNING:tensorflow:Layer gru_4 will not use cuDNN kernels since it doesn't meet the criteria. It will use a generic GPU kernel as fallback when running on GPU.\n",
      "WARNING:tensorflow:Layer gru_5 will not use cuDNN kernels since it doesn't meet the criteria. It will use a generic GPU kernel as fallback when running on GPU.\n",
      "Model: \"model_2\"\n",
      "__________________________________________________________________________________________________\n",
      " Layer (type)                Output Shape                 Param #   Connected to                  \n",
      "==================================================================================================\n",
      " input_3 (InputLayer)        [(None, 192, 1)]             0         []                            \n",
      "                                                                                                  \n",
      " conv1d_2 (Conv1D)           (None, 190, 64)              256       ['input_3[0][0]']             \n",
      "                                                                                                  \n",
      " lstm_4 (LSTM)               (None, 190, 64)              33024     ['conv1d_2[0][0]']            \n",
      "                                                                                                  \n",
      " attention_2 (Attention)     (None, 190, 64)              0         ['lstm_4[0][0]',              \n",
      "                                                                     'lstm_4[0][0]']              \n",
      "                                                                                                  \n",
      " lstm_5 (LSTM)               (None, 190, 64)              33024     ['attention_2[0][0]']         \n",
      "                                                                                                  \n",
      " gru_4 (GRU)                 (None, 190, 50)              17400     ['lstm_5[0][0]']              \n",
      "                                                                                                  \n",
      " gru_5 (GRU)                 (None, 25)                   5775      ['gru_4[0][0]']               \n",
      "                                                                                                  \n",
      " dense_4 (Dense)             (None, 50)                   1300      ['gru_5[0][0]']               \n",
      "                                                                                                  \n",
      " dense_5 (Dense)             (None, 16)                   816       ['dense_4[0][0]']             \n",
      "                                                                                                  \n",
      "==================================================================================================\n",
      "Total params: 91595 (357.79 KB)\n",
      "Trainable params: 91595 (357.79 KB)\n",
      "Non-trainable params: 0 (0.00 Byte)\n",
      "__________________________________________________________________________________________________\n",
      "Epoch 1/100\n"
     ]
    },
    {
     "name": "stderr",
     "output_type": "stream",
     "text": [
      "2024-01-18 11:44:01.760164: W tensorflow/core/grappler/costs/op_level_cost_estimator.cc:693] Error in PredictCost() for the op: op: \"Softmax\" attr { key: \"T\" value { type: DT_FLOAT } } inputs { dtype: DT_FLOAT shape { unknown_rank: true } } device { type: \"CPU\" vendor: \"GenuineIntel\" model: \"103\" frequency: 2995 num_cores: 32 environment { key: \"cpu_instruction_set\" value: \"AVX SSE, SSE2, SSE3, SSSE3, SSE4.1, SSE4.2\" } environment { key: \"eigen\" value: \"3.4.90\" } l1_cache_size: 49152 l2_cache_size: 2097152 l3_cache_size: 37748736 memory_size: 268435456 } outputs { dtype: DT_FLOAT shape { unknown_rank: true } }\n"
     ]
    },
    {
     "name": "stdout",
     "output_type": "stream",
     "text": [
      "105/105 [==============================] - ETA: 0s - loss: 0.0378"
     ]
    },
    {
     "name": "stderr",
     "output_type": "stream",
     "text": [
      "2024-01-18 11:44:38.846141: W tensorflow/core/grappler/costs/op_level_cost_estimator.cc:693] Error in PredictCost() for the op: op: \"Softmax\" attr { key: \"T\" value { type: DT_FLOAT } } inputs { dtype: DT_FLOAT shape { unknown_rank: true } } device { type: \"CPU\" vendor: \"GenuineIntel\" model: \"103\" frequency: 2995 num_cores: 32 environment { key: \"cpu_instruction_set\" value: \"AVX SSE, SSE2, SSE3, SSSE3, SSE4.1, SSE4.2\" } environment { key: \"eigen\" value: \"3.4.90\" } l1_cache_size: 49152 l2_cache_size: 2097152 l3_cache_size: 37748736 memory_size: 268435456 } outputs { dtype: DT_FLOAT shape { unknown_rank: true } }\n"
     ]
    },
    {
     "name": "stdout",
     "output_type": "stream",
     "text": [
      "105/105 [==============================] - 43s 381ms/step - loss: 0.0378 - val_loss: 0.0237\n",
      "Epoch 2/100\n",
      "105/105 [==============================] - 39s 376ms/step - loss: 0.0126 - val_loss: 0.0151\n",
      "Epoch 3/100\n",
      "105/105 [==============================] - 39s 373ms/step - loss: 0.0089 - val_loss: 0.0139\n",
      "Epoch 4/100\n",
      "105/105 [==============================] - 39s 369ms/step - loss: 0.0079 - val_loss: 0.0129\n",
      "Epoch 5/100\n",
      "105/105 [==============================] - 40s 381ms/step - loss: 0.0072 - val_loss: 0.0127\n",
      "Epoch 6/100\n",
      "105/105 [==============================] - 39s 372ms/step - loss: 0.0069 - val_loss: 0.0127\n",
      "Epoch 7/100\n",
      "105/105 [==============================] - 39s 375ms/step - loss: 0.0064 - val_loss: 0.0121\n",
      "Epoch 8/100\n",
      "105/105 [==============================] - 39s 374ms/step - loss: 0.0062 - val_loss: 0.0131\n",
      "Epoch 9/100\n",
      "105/105 [==============================] - 39s 374ms/step - loss: 0.0060 - val_loss: 0.0122\n",
      "Epoch 10/100\n",
      "105/105 [==============================] - 40s 379ms/step - loss: 0.0057 - val_loss: 0.0126\n",
      "Epoch 11/100\n",
      "105/105 [==============================] - 39s 374ms/step - loss: 0.0056 - val_loss: 0.0123\n",
      "Epoch 12/100\n",
      "105/105 [==============================] - 39s 374ms/step - loss: 0.0055 - val_loss: 0.0112\n",
      "Epoch 13/100\n",
      "105/105 [==============================] - 39s 373ms/step - loss: 0.0053 - val_loss: 0.0120\n",
      "Epoch 14/100\n",
      "105/105 [==============================] - 39s 371ms/step - loss: 0.0053 - val_loss: 0.0114\n",
      "Epoch 15/100\n",
      "105/105 [==============================] - 39s 370ms/step - loss: 0.0050 - val_loss: 0.0110\n",
      "Epoch 16/100\n",
      "105/105 [==============================] - 40s 381ms/step - loss: 0.0049 - val_loss: 0.0112\n",
      "Epoch 17/100\n",
      "105/105 [==============================] - 39s 373ms/step - loss: 0.0048 - val_loss: 0.0110\n",
      "Epoch 18/100\n",
      "105/105 [==============================] - 39s 373ms/step - loss: 0.0047 - val_loss: 0.0118\n",
      "Epoch 19/100\n",
      "105/105 [==============================] - 39s 375ms/step - loss: 0.0046 - val_loss: 0.0117\n",
      "Epoch 20/100\n",
      "105/105 [==============================] - 39s 374ms/step - loss: 0.0046 - val_loss: 0.0115\n",
      "Epoch 21/100\n",
      "105/105 [==============================] - 39s 376ms/step - loss: 0.0046 - val_loss: 0.0113\n",
      "Epoch 22/100\n",
      "105/105 [==============================] - 39s 375ms/step - loss: 0.0044 - val_loss: 0.0114\n",
      "Epoch 23/100\n",
      "105/105 [==============================] - 39s 374ms/step - loss: 0.0042 - val_loss: 0.0124\n",
      "Epoch 24/100\n",
      "105/105 [==============================] - 39s 372ms/step - loss: 0.0043 - val_loss: 0.0115\n",
      "Epoch 25/100\n",
      "105/105 [==============================] - 39s 374ms/step - loss: 0.0041 - val_loss: 0.0118\n",
      "Epoch 26/100\n",
      "105/105 [==============================] - 39s 370ms/step - loss: 0.0040 - val_loss: 0.0126\n",
      "Epoch 27/100\n",
      "105/105 [==============================] - 40s 379ms/step - loss: 0.0040 - val_loss: 0.0124\n",
      "Epoch 28/100\n",
      "105/105 [==============================] - 40s 379ms/step - loss: 0.0040 - val_loss: 0.0122\n",
      "Epoch 29/100\n",
      "105/105 [==============================] - 39s 375ms/step - loss: 0.0040 - val_loss: 0.0120\n",
      "Epoch 30/100\n",
      "105/105 [==============================] - 39s 373ms/step - loss: 0.0038 - val_loss: 0.0123\n",
      "Epoch 31/100\n",
      "105/105 [==============================] - 39s 375ms/step - loss: 0.0036 - val_loss: 0.0127\n",
      "Epoch 32/100\n",
      "105/105 [==============================] - 39s 375ms/step - loss: 0.0036 - val_loss: 0.0125\n",
      "Epoch 33/100\n",
      "105/105 [==============================] - 40s 378ms/step - loss: 0.0035 - val_loss: 0.0128\n",
      "Epoch 34/100\n",
      "105/105 [==============================] - 39s 374ms/step - loss: 0.0035 - val_loss: 0.0126\n",
      "Epoch 35/100\n",
      "105/105 [==============================] - 40s 378ms/step - loss: 0.0035 - val_loss: 0.0126\n",
      "Epoch 36/100\n",
      "105/105 [==============================] - 39s 370ms/step - loss: 0.0034 - val_loss: 0.0132\n",
      "Epoch 37/100\n",
      "105/105 [==============================] - 39s 376ms/step - loss: 0.0034 - val_loss: 0.0124\n",
      "Epoch 38/100\n",
      "105/105 [==============================] - 39s 373ms/step - loss: 0.0031 - val_loss: 0.0130\n",
      "Epoch 39/100\n",
      "105/105 [==============================] - 39s 373ms/step - loss: 0.0030 - val_loss: 0.0133\n",
      "Epoch 40/100\n",
      "105/105 [==============================] - 40s 378ms/step - loss: 0.0032 - val_loss: 0.0132\n",
      "Epoch 41/100\n",
      "105/105 [==============================] - 40s 379ms/step - loss: 0.0032 - val_loss: 0.0130\n",
      "Epoch 42/100\n",
      "105/105 [==============================] - 39s 373ms/step - loss: 0.0028 - val_loss: 0.0130\n",
      "Epoch 43/100\n",
      "105/105 [==============================] - 39s 376ms/step - loss: 0.0028 - val_loss: 0.0130\n",
      "Epoch 44/100\n",
      "105/105 [==============================] - 39s 372ms/step - loss: 0.0028 - val_loss: 0.0128\n",
      "Epoch 45/100\n",
      "105/105 [==============================] - 39s 371ms/step - loss: 0.0030 - val_loss: 0.0140\n",
      "Epoch 46/100\n",
      "105/105 [==============================] - 40s 377ms/step - loss: 0.0027 - val_loss: 0.0132\n",
      "Epoch 47/100\n",
      "105/105 [==============================] - 40s 379ms/step - loss: 0.0026 - val_loss: 0.0137\n",
      "Epoch 48/100\n",
      "105/105 [==============================] - 39s 374ms/step - loss: 0.0027 - val_loss: 0.0135\n",
      "Epoch 49/100\n",
      "105/105 [==============================] - 39s 376ms/step - loss: 0.0025 - val_loss: 0.0135\n",
      "Epoch 50/100\n",
      "105/105 [==============================] - 39s 374ms/step - loss: 0.0025 - val_loss: 0.0138\n",
      "Epoch 51/100\n",
      "105/105 [==============================] - 39s 374ms/step - loss: 0.0025 - val_loss: 0.0136\n",
      "Epoch 52/100\n",
      "105/105 [==============================] - 39s 375ms/step - loss: 0.0023 - val_loss: 0.0137\n",
      "Epoch 53/100\n",
      "105/105 [==============================] - 40s 379ms/step - loss: 0.0025 - val_loss: 0.0143\n",
      "Epoch 54/100\n",
      "105/105 [==============================] - 39s 375ms/step - loss: 0.0029 - val_loss: 0.0135\n",
      "Epoch 55/100\n",
      "105/105 [==============================] - 39s 375ms/step - loss: 0.0023 - val_loss: 0.0136\n",
      "Epoch 56/100\n",
      "105/105 [==============================] - 39s 371ms/step - loss: 0.0022 - val_loss: 0.0134\n",
      "Epoch 57/100\n",
      "105/105 [==============================] - 39s 373ms/step - loss: 0.0023 - val_loss: 0.0134\n",
      "Epoch 58/100\n",
      "105/105 [==============================] - 39s 374ms/step - loss: 0.0022 - val_loss: 0.0131\n",
      "Epoch 59/100\n",
      "105/105 [==============================] - 40s 375ms/step - loss: 0.0021 - val_loss: 0.0136\n",
      "Epoch 60/100\n",
      "105/105 [==============================] - 39s 376ms/step - loss: 0.0021 - val_loss: 0.0137\n",
      "Epoch 61/100\n",
      "105/105 [==============================] - 39s 374ms/step - loss: 0.0021 - val_loss: 0.0139\n",
      "Epoch 62/100\n",
      "105/105 [==============================] - 40s 377ms/step - loss: 0.0021 - val_loss: 0.0142\n",
      "Epoch 63/100\n",
      "105/105 [==============================] - 39s 376ms/step - loss: 0.0025 - val_loss: 0.0137\n",
      "Epoch 64/100\n",
      "105/105 [==============================] - 40s 378ms/step - loss: 0.0021 - val_loss: 0.0133\n",
      "Epoch 65/100\n",
      "105/105 [==============================] - 40s 377ms/step - loss: 0.0023 - val_loss: 0.0131\n",
      "Epoch 66/100\n",
      "105/105 [==============================] - 39s 374ms/step - loss: 0.0020 - val_loss: 0.0134\n",
      "Epoch 67/100\n",
      "105/105 [==============================] - 39s 375ms/step - loss: 0.0020 - val_loss: 0.0140\n",
      "Epoch 68/100\n",
      "105/105 [==============================] - 39s 377ms/step - loss: 0.0019 - val_loss: 0.0138\n",
      "Epoch 69/100\n",
      "105/105 [==============================] - 39s 368ms/step - loss: 0.0019 - val_loss: 0.0142\n",
      "Epoch 70/100\n",
      "105/105 [==============================] - 40s 379ms/step - loss: 0.0019 - val_loss: 0.0140\n",
      "Epoch 71/100\n",
      "105/105 [==============================] - 39s 370ms/step - loss: 0.0019 - val_loss: 0.0143\n",
      "Epoch 72/100\n",
      "105/105 [==============================] - 39s 376ms/step - loss: 0.0020 - val_loss: 0.0136\n",
      "Epoch 73/100\n",
      "105/105 [==============================] - 39s 375ms/step - loss: 0.0019 - val_loss: 0.0139\n",
      "Epoch 74/100\n",
      "105/105 [==============================] - 39s 374ms/step - loss: 0.0019 - val_loss: 0.0141\n",
      "Epoch 75/100\n",
      "105/105 [==============================] - 39s 375ms/step - loss: 0.0019 - val_loss: 0.0141\n",
      "Epoch 76/100\n",
      "105/105 [==============================] - 40s 377ms/step - loss: 0.0018 - val_loss: 0.0139\n",
      "Epoch 77/100\n",
      "105/105 [==============================] - 39s 376ms/step - loss: 0.0018 - val_loss: 0.0140\n",
      "Epoch 78/100\n",
      "105/105 [==============================] - 39s 374ms/step - loss: 0.0018 - val_loss: 0.0141\n",
      "Epoch 79/100\n",
      "105/105 [==============================] - 39s 369ms/step - loss: 0.0018 - val_loss: 0.0138\n",
      "Epoch 80/100\n",
      "105/105 [==============================] - 39s 376ms/step - loss: 0.0018 - val_loss: 0.0138\n",
      "Epoch 81/100\n",
      "105/105 [==============================] - 40s 377ms/step - loss: 0.0018 - val_loss: 0.0140\n",
      "Epoch 82/100\n",
      "105/105 [==============================] - 39s 374ms/step - loss: 0.0017 - val_loss: 0.0145\n",
      "Epoch 83/100\n",
      "105/105 [==============================] - 40s 378ms/step - loss: 0.0018 - val_loss: 0.0141\n",
      "Epoch 84/100\n",
      "105/105 [==============================] - 39s 376ms/step - loss: 0.0017 - val_loss: 0.0139\n",
      "Epoch 85/100\n",
      "105/105 [==============================] - 39s 374ms/step - loss: 0.0017 - val_loss: 0.0140\n",
      "Epoch 86/100\n",
      "105/105 [==============================] - 39s 374ms/step - loss: 0.0018 - val_loss: 0.0134\n",
      "Epoch 87/100\n",
      "105/105 [==============================] - 39s 374ms/step - loss: 0.0018 - val_loss: 0.0136\n",
      "Epoch 88/100\n",
      "105/105 [==============================] - 39s 369ms/step - loss: 0.0017 - val_loss: 0.0136\n",
      "Epoch 89/100\n",
      "105/105 [==============================] - 40s 379ms/step - loss: 0.0017 - val_loss: 0.0138\n",
      "Epoch 90/100\n",
      "105/105 [==============================] - 39s 376ms/step - loss: 0.0016 - val_loss: 0.0140\n",
      "Epoch 91/100\n",
      "105/105 [==============================] - 39s 375ms/step - loss: 0.0017 - val_loss: 0.0137\n",
      "Epoch 92/100\n",
      "105/105 [==============================] - 39s 375ms/step - loss: 0.0017 - val_loss: 0.0138\n",
      "Epoch 93/100\n",
      "105/105 [==============================] - 39s 376ms/step - loss: 0.0016 - val_loss: 0.0140\n",
      "Epoch 94/100\n",
      "105/105 [==============================] - 39s 374ms/step - loss: 0.0017 - val_loss: 0.0139\n",
      "Epoch 95/100\n",
      "105/105 [==============================] - 40s 380ms/step - loss: 0.0016 - val_loss: 0.0141\n",
      "Epoch 96/100\n",
      "105/105 [==============================] - 39s 375ms/step - loss: 0.0016 - val_loss: 0.0144\n",
      "Epoch 97/100\n",
      "105/105 [==============================] - 39s 374ms/step - loss: 0.0016 - val_loss: 0.0141\n",
      "Epoch 98/100\n",
      "105/105 [==============================] - 39s 374ms/step - loss: 0.0016 - val_loss: 0.0139\n",
      "Epoch 99/100\n",
      "105/105 [==============================] - 39s 375ms/step - loss: 0.0016 - val_loss: 0.0138\n",
      "Epoch 100/100\n",
      "105/105 [==============================] - 40s 380ms/step - loss: 0.0016 - val_loss: 0.0138\n"
     ]
    },
    {
     "data": {
      "image/png": "[encoded data removed]",
      "text/plain": [
       "<Figure size 640x480 with 1 Axes>"
      ]
     },
     "metadata": {},
     "output_type": "display_data"
    }
   ],
   "source": [
    "with tf.device('/CPU:0'):\n",
    "    inputs = Input(shape=(INPUT_STEP, N_FEATURE))\n",
    "    conv = Conv1D(filters=64, kernel_size=3, activation='relu')(inputs)\n",
    "\n",
    "    encoder = LSTM(64, return_sequences=True)(conv)\n",
    "\n",
    "    attention = Attention()([encoder, encoder])\n",
    "\n",
    "    decoder = LSTM(64, return_sequences=True)(attention)\n",
    "\n",
    "    gru1 = GRU(50, activation='relu', return_sequences=True)(decoder)\n",
    "\n",
    "    dense1 = Dense(50, activation='relu')(gru1)\n",
    "    dense2 = Dense(PREDICT_STEP)(dense1)\n",
    "\n",
    "    model = Model(inputs=inputs, outputs=dense2)\n",
    "    model.summary()\n",
    "    model.compile(optimizer='adam', loss='mse')\n",
    "    \n",
    "    early_stopping = EarlyStopping(\n",
    "        monitor='loss',\n",
    "        patience=7,\n",
    "        min_delta=0.00001,\n",
    "        restore_best_weights=True\n",
    "    )\n",
    "\n",
    "    history = model.fit(\n",
    "        X_train,\n",
    "        y_train,\n",
    "        verbose=1,\n",
    "        epochs=100,\n",
    "        batch_size=250,\n",
    "        validation_data=(X_val, y_val),\n",
    "        callbacks=[early_stopping]\n",
    "    )\n",
    "\n",
    "# plot loss & validation loss\n",
    "plt.plot(history.history['loss'], label='Training Loss')\n",
    "plt.plot(history.history['val_loss'], label='Validation Loss')\n",
    "plt.xlabel('Epochs')\n",
    "plt.ylabel('Loss')\n",
    "plt.legend()\n",
    "plt.show()\n",
    "plt.savefig(TRAINING_HISTORY_DIR)\n",
    "plt.close()\n",
    "\n",
    "model.save(MODEL_FILE_DIR)\n"
   ]
  },
  {
   "cell_type": "code",
   "execution_count": 40,
   "metadata": {},
   "outputs": [
    {
     "name": "stdout",
     "output_type": "stream",
     "text": [
      "WARNING:tensorflow:Layer gru_4 will not use cuDNN kernels since it doesn't meet the criteria. It will use a generic GPU kernel as fallback when running on GPU.\n",
      "WARNING:tensorflow:Layer gru_5 will not use cuDNN kernels since it doesn't meet the criteria. It will use a generic GPU kernel as fallback when running on GPU.\n",
      "  4/104 [>.............................] - ETA: 2s - loss: 0.0209 "
     ]
    },
    {
     "name": "stderr",
     "output_type": "stream",
     "text": [
      "2024-01-18 12:49:36.926931: W tensorflow/core/grappler/costs/op_level_cost_estimator.cc:693] Error in PredictCost() for the op: op: \"Softmax\" attr { key: \"T\" value { type: DT_FLOAT } } inputs { dtype: DT_FLOAT shape { unknown_rank: true } } device { type: \"GPU\" vendor: \"NVIDIA\" model: \"NVIDIA GeForce GTX 1080 Ti\" frequency: 1582 num_cores: 28 environment { key: \"architecture\" value: \"6.1\" } environment { key: \"cuda\" value: \"11080\" } environment { key: \"cudnn\" value: \"8600\" } num_registers: 65536 l1_cache_size: 24576 l2_cache_size: 2883584 shared_memory_size_per_multiprocessor: 98304 memory_size: 10792206336 bandwidth: 484440000 } outputs { dtype: DT_FLOAT shape { unknown_rank: true } }\n"
     ]
    },
    {
     "name": "stdout",
     "output_type": "stream",
     "text": [
      "104/104 [==============================] - 3s 24ms/step - loss: 0.0315\n",
      "--------------------------------------------------------------------------------------\n",
      "Test Loss: 0.0315\n",
      "--------------------------------------------------------------------------------------\n",
      "  2/104 [..............................] - ETA: 5s "
     ]
    },
    {
     "name": "stderr",
     "output_type": "stream",
     "text": [
      "2024-01-18 12:49:39.857782: W tensorflow/core/grappler/costs/op_level_cost_estimator.cc:693] Error in PredictCost() for the op: op: \"Softmax\" attr { key: \"T\" value { type: DT_FLOAT } } inputs { dtype: DT_FLOAT shape { unknown_rank: true } } device { type: \"GPU\" vendor: \"NVIDIA\" model: \"NVIDIA GeForce GTX 1080 Ti\" frequency: 1582 num_cores: 28 environment { key: \"architecture\" value: \"6.1\" } environment { key: \"cuda\" value: \"11080\" } environment { key: \"cudnn\" value: \"8600\" } num_registers: 65536 l1_cache_size: 24576 l2_cache_size: 2883584 shared_memory_size_per_multiprocessor: 98304 memory_size: 10792206336 bandwidth: 484440000 } outputs { dtype: DT_FLOAT shape { unknown_rank: true } }\n"
     ]
    },
    {
     "name": "stdout",
     "output_type": "stream",
     "text": [
      "104/104 [==============================] - 3s 24ms/step\n"
     ]
    }
   ],
   "source": [
    "# testing\n",
    "model = load_model(MODEL_FILE_DIR)\n",
    "loss = model.evaluate(X_test, y_test)\n",
    "\n",
    "print(\"-\" * 86)\n",
    "print(f'Test Loss: {loss:.4f}')\n",
    "print(\"-\" * 86)\n",
    "\n",
    "pred = model.predict(X_test)\n",
    "X_test_reshaped = X_test[:, :, 0]\n",
    "y_test_reshaped = np.reshape(y_test, (y_test.shape[0], y_test.shape[1]))\n",
    "\n",
    "pred_data = np.concatenate(\n",
    "    [scaler.inverse_transform(X_test_reshaped),\n",
    "        scaler.inverse_transform(pred)],\n",
    "    axis=-1\n",
    ")\n",
    "actual_data = np.concatenate(\n",
    "    [scaler.inverse_transform(X_test_reshaped),\n",
    "        scaler.inverse_transform(y_test_reshaped)],\n",
    "    axis=-1\n",
    ")\n",
    "\n",
    "for i in range(actual_data.shape[0]):\n",
    "    plt.figure(figsize=(16, 6))\n",
    "    X = np.arange(1, actual_data.shape[1]+1, 1)\n",
    "    y_pred = pred_data[i]\n",
    "    y_actual = actual_data[i]\n",
    "    plt.title(f\"Time Series {i+1} prediction result\")\n",
    "    plt.plot(X, y_pred, label='Predict')\n",
    "    plt.plot(X, y_actual, label='Actual')\n",
    "    plt.ylim(0, 30)\n",
    "    plt.xlabel('Time step')\n",
    "    plt.ylabel('Usage (kWh)')\n",
    "    plt.legend()\n",
    "    plt.savefig(TEST_PLOT_DIR+f\"Time_Series_{i+1}.png\")\n",
    "    plt.close()"
   ]
  }
 ],
 "metadata": {
  "kernelspec": {
   "display_name": "tf",
   "language": "python",
   "name": "python3"
  },
  "language_info": {
   "codemirror_mode": {
    "name": "ipython",
    "version": 3
   },
   "file_extension": ".py",
   "mimetype": "text/x-python",
   "name": "python",
   "nbconvert_exporter": "python",
   "pygments_lexer": "ipython3",
   "version": "3.11.0"
  }
 },
 "nbformat": 4,
 "nbformat_minor": 2
}
