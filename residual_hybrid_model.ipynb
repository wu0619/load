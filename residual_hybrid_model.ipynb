{
 "cells": [
  {
   "cell_type": "code",
   "execution_count": 58,
   "metadata": {},
   "outputs": [],
   "source": [
    "import numpy as np\n",
    "import pandas as pd\n",
    "import matplotlib.pyplot as plt\n",
    "import os\n",
    "import xgboost as xgb\n",
    "import tensorflow as tf\n",
    "import math\n",
    "from scipy.signal import savgol_filter\n",
    "from keras.models import Sequential\n",
    "from keras.layers import Reshape, Dense, LSTM, Conv1D, MaxPooling1D, Flatten, TimeDistributed, Input, Attention\n",
    "from keras.callbacks import EarlyStopping\n",
    "from pandas.tseries.offsets import DateOffset\n",
    "from sklearn.preprocessing import MinMaxScaler\n",
    "from sklearn.metrics import mean_squared_error, mean_absolute_error, mean_absolute_percentage_error\n",
    "from sklearn.model_selection import train_test_split"
   ]
  },
  {
   "cell_type": "code",
   "execution_count": 59,
   "metadata": {},
   "outputs": [],
   "source": [
    "# dirs\n",
    "DATA_DIR = \"./load.csv\"\n",
    "TEST_PLOT_DIR = \"./test_plots/residual_hybrid_model/\""
   ]
  },
  {
   "cell_type": "code",
   "execution_count": 60,
   "metadata": {},
   "outputs": [],
   "source": [
    "if not os.path.exists(TEST_PLOT_DIR):\n",
    "    os.makedirs(TEST_PLOT_DIR)\n",
    "if not os.path.exists(\"./model\"):\n",
    "    os.makedirs(\"./model\")\n",
    "if not os.path.exists(\"./training_history\"):\n",
    "    os.makedirs(\"./training_history\")"
   ]
  },
  {
   "cell_type": "code",
   "execution_count": 61,
   "metadata": {},
   "outputs": [],
   "source": [
    "data = pd.read_csv(DATA_DIR)\n",
    "data['Timestamp'] = pd.to_datetime(data['Timestamp'], format='%Y/%m/%d %H:%M')"
   ]
  },
  {
   "cell_type": "code",
   "execution_count": 62,
   "metadata": {},
   "outputs": [],
   "source": [
    "# scaler\n",
    "scaler = MinMaxScaler()\n",
    "data_scaled = scaler.fit_transform(data['Load'].to_numpy().reshape(-1, 1))\n",
    "data['Load'] = data_scaled"
   ]
  },
  {
   "cell_type": "code",
   "execution_count": 63,
   "metadata": {},
   "outputs": [
    {
     "data": {
      "text/html": [
       "<div>\n",
       "<style scoped>\n",
       "    .dataframe tbody tr th:only-of-type {\n",
       "        vertical-align: middle;\n",
       "    }\n",
       "\n",
       "    .dataframe tbody tr th {\n",
       "        vertical-align: top;\n",
       "    }\n",
       "\n",
       "    .dataframe thead th {\n",
       "        text-align: right;\n",
       "    }\n",
       "</style>\n",
       "<table border=\"1\" class=\"dataframe\">\n",
       "  <thead>\n",
       "    <tr style=\"text-align: right;\">\n",
       "      <th></th>\n",
       "      <th>Timestamp</th>\n",
       "      <th>Load</th>\n",
       "    </tr>\n",
       "  </thead>\n",
       "  <tbody>\n",
       "    <tr>\n",
       "      <th>0</th>\n",
       "      <td>2023-01-01 00:00:00</td>\n",
       "      <td>0.445492</td>\n",
       "    </tr>\n",
       "    <tr>\n",
       "      <th>1</th>\n",
       "      <td>2023-01-01 00:15:00</td>\n",
       "      <td>0.427049</td>\n",
       "    </tr>\n",
       "    <tr>\n",
       "      <th>2</th>\n",
       "      <td>2023-01-01 00:30:00</td>\n",
       "      <td>0.445492</td>\n",
       "    </tr>\n",
       "    <tr>\n",
       "      <th>3</th>\n",
       "      <td>2023-01-01 00:45:00</td>\n",
       "      <td>0.420902</td>\n",
       "    </tr>\n",
       "    <tr>\n",
       "      <th>4</th>\n",
       "      <td>2023-01-01 01:00:00</td>\n",
       "      <td>0.422951</td>\n",
       "    </tr>\n",
       "    <tr>\n",
       "      <th>...</th>\n",
       "      <td>...</td>\n",
       "      <td>...</td>\n",
       "    </tr>\n",
       "    <tr>\n",
       "      <th>35035</th>\n",
       "      <td>2023-12-31 22:45:00</td>\n",
       "      <td>0.331148</td>\n",
       "    </tr>\n",
       "    <tr>\n",
       "      <th>35036</th>\n",
       "      <td>2023-12-31 23:00:00</td>\n",
       "      <td>0.270492</td>\n",
       "    </tr>\n",
       "    <tr>\n",
       "      <th>35037</th>\n",
       "      <td>2023-12-31 23:15:00</td>\n",
       "      <td>0.365574</td>\n",
       "    </tr>\n",
       "    <tr>\n",
       "      <th>35038</th>\n",
       "      <td>2023-12-31 23:30:00</td>\n",
       "      <td>0.337295</td>\n",
       "    </tr>\n",
       "    <tr>\n",
       "      <th>35039</th>\n",
       "      <td>2023-12-31 23:45:00</td>\n",
       "      <td>0.253689</td>\n",
       "    </tr>\n",
       "  </tbody>\n",
       "</table>\n",
       "<p>35040 rows × 2 columns</p>\n",
       "</div>"
      ],
      "text/plain": [
       "                Timestamp      Load\n",
       "0     2023-01-01 00:00:00  0.445492\n",
       "1     2023-01-01 00:15:00  0.427049\n",
       "2     2023-01-01 00:30:00  0.445492\n",
       "3     2023-01-01 00:45:00  0.420902\n",
       "4     2023-01-01 01:00:00  0.422951\n",
       "...                   ...       ...\n",
       "35035 2023-12-31 22:45:00  0.331148\n",
       "35036 2023-12-31 23:00:00  0.270492\n",
       "35037 2023-12-31 23:15:00  0.365574\n",
       "35038 2023-12-31 23:30:00  0.337295\n",
       "35039 2023-12-31 23:45:00  0.253689\n",
       "\n",
       "[35040 rows x 2 columns]"
      ]
     },
     "execution_count": 63,
     "metadata": {},
     "output_type": "execute_result"
    }
   ],
   "source": [
    "data"
   ]
  },
  {
   "cell_type": "code",
   "execution_count": 64,
   "metadata": {},
   "outputs": [],
   "source": [
    "# Define a function to generate a list of timestamps every 2 hours within the dataset's range\n",
    "def generate_timestamps(data) -> pd.DatetimeIndex:\n",
    "    start = data['Timestamp'].min() + DateOffset(days=2)\n",
    "    end = data['Timestamp'].max() - DateOffset(hours=2, minutes=30)\n",
    "    timestamps = pd.date_range(start=start, end=end, freq='15min')\n",
    "    return timestamps\n"
   ]
  },
  {
   "cell_type": "code",
   "execution_count": 65,
   "metadata": {},
   "outputs": [
    {
     "name": "stdout",
     "output_type": "stream",
     "text": [
      "(34838,)\n"
     ]
    }
   ],
   "source": [
    "timestamps = generate_timestamps(data)\n",
    "print(timestamps.shape)"
   ]
  },
  {
   "cell_type": "code",
   "execution_count": 66,
   "metadata": {},
   "outputs": [],
   "source": [
    "def generate_sets_for_all_timestamps(timestamps, data):\n",
    "    training_sets = []\n",
    "    target_sets = []\n",
    "    training_sets_time = []\n",
    "    target_sets_time = []\n",
    "\n",
    "    for timestamp in timestamps:\n",
    "        # Calculate the range for the current period's data\n",
    "        start_time_current = timestamp - DateOffset(days=1, hours=23, minutes=45)\n",
    "        end_time_current = timestamp\n",
    "\n",
    "        # Calculate the equivalent timestamp for last week\n",
    "        # timestamp_last_week = timestamp - DateOffset(days=7)\n",
    "        # start_time_last_week = timestamp_last_week - DateOffset(days=0, hours=23, minutes=45)\n",
    "        # end_time_last_week = timestamp_last_week\n",
    "\n",
    "        # Calculate the target range (the next 10 steps after the current timestamp)\n",
    "        target_start_time = timestamp + DateOffset(minutes=15)\n",
    "        target_end_time = timestamp + DateOffset(hours=2, minutes=30) \n",
    "\n",
    "        # Filter the data for training and target sets\n",
    "        current_data = data[(data['Timestamp'] >= start_time_current) & (data['Timestamp'] <= end_time_current)]\n",
    "        # last_week_data = data[(data['Timestamp'] >= start_time_last_week) & (data['Timestamp'] <= end_time_last_week)]\n",
    "        target_data = data[(data['Timestamp'] >= target_start_time) & (data['Timestamp'] <= target_end_time)]\n",
    "\n",
    "        # Combine current and last week data for the training set\n",
    "        training_data = pd.concat([current_data]).reset_index(drop=True)\n",
    "        \n",
    "        # Save the training and target sets\n",
    "        if not training_data.empty and not target_data.empty:\n",
    "            training_sets.append(training_data['Load'])\n",
    "            target_sets.append(target_data['Load'])\n",
    "            training_sets_time.append(list(training_data['Timestamp']))\n",
    "            target_sets_time.append(list(target_data['Timestamp']))\n",
    "\n",
    "    return np.array(training_sets), np.array(target_sets), np.array(training_sets_time), np.array(target_sets_time)\n"
   ]
  },
  {
   "cell_type": "code",
   "execution_count": 67,
   "metadata": {},
   "outputs": [],
   "source": [
    "# Generate training and target sets for all the timestamps\n",
    "training_sets, target_sets, training_sets_time, target_sets_time = generate_sets_for_all_timestamps(timestamps, data)"
   ]
  },
  {
   "cell_type": "code",
   "execution_count": 68,
   "metadata": {},
   "outputs": [],
   "source": [
    "MONTH_TIME_STEP = math.floor(timestamps.shape[0] / 12)\n",
    "X_test = []\n",
    "y_test = []\n",
    "X_test_time = []\n",
    "y_test_time = []\n",
    "minList = []\n",
    "maxList = []\n",
    "for i in range(0, 12):\n",
    "    min = (i+1)*MONTH_TIME_STEP-(288*(i+1))\n",
    "    max = (i+1)*MONTH_TIME_STEP-(288*i)\n",
    "    X_test.append(training_sets[min:max])\n",
    "    y_test.append(target_sets[min:max])\n",
    "    X_test_time.append(training_sets_time[min:max])\n",
    "    y_test_time.append(target_sets_time[min:max])\n",
    "    training_sets = np.concatenate([training_sets[:min], training_sets[max:]])\n",
    "    target_sets = np.concatenate([target_sets[:min], target_sets[max:]])\n",
    "    training_sets_time = np.concatenate([training_sets_time[:min], training_sets_time[max:]])\n",
    "    target_sets_time = np.concatenate([target_sets_time[:min], target_sets_time[max:]])\n"
   ]
  },
  {
   "cell_type": "code",
   "execution_count": 69,
   "metadata": {},
   "outputs": [],
   "source": [
    "X_test = np.concatenate([i for i in X_test])\n",
    "y_test = np.concatenate([i for i in y_test])\n",
    "X_test_time = np.concatenate([i for i in X_test_time])\n",
    "y_test_time = np.concatenate([i for i in y_test_time])"
   ]
  },
  {
   "cell_type": "code",
   "execution_count": 70,
   "metadata": {},
   "outputs": [],
   "source": [
    "X_train = training_sets\n",
    "y_train = target_sets\n",
    "X_train_time = training_sets_time\n",
    "y_train_time = target_sets_time"
   ]
  },
  {
   "cell_type": "code",
   "execution_count": 71,
   "metadata": {},
   "outputs": [
    {
     "name": "stdout",
     "output_type": "stream",
     "text": [
      "(31382, 192)\n",
      "(3456, 192)\n",
      "(31382, 10)\n",
      "(3456, 10)\n"
     ]
    }
   ],
   "source": [
    "print(np.array(X_train).shape)\n",
    "print(np.array(X_test).shape)\n",
    "print(np.array(y_train).shape)\n",
    "print(np.array(y_test).shape)\n"
   ]
  },
  {
   "cell_type": "code",
   "execution_count": 72,
   "metadata": {},
   "outputs": [],
   "source": [
    "subsequences = 2\n",
    "timesteps = X_train.shape[1] // subsequences\n",
    "\n",
    "X_train_DL = np.array(X_train).reshape(X_train.shape[0], subsequences, timesteps, 1)\n",
    "X_test_DL = np.array(X_test).reshape(X_test.shape[0], subsequences, timesteps, 1)"
   ]
  },
  {
   "cell_type": "code",
   "execution_count": 73,
   "metadata": {},
   "outputs": [
    {
     "data": {
      "text/plain": [
       "(31382, 2, 96, 1)"
      ]
     },
     "execution_count": 73,
     "metadata": {},
     "output_type": "execute_result"
    }
   ],
   "source": [
    "X_train_DL.shape"
   ]
  },
  {
   "cell_type": "code",
   "execution_count": 74,
   "metadata": {},
   "outputs": [
    {
     "name": "stdout",
     "output_type": "stream",
     "text": [
      "WARNING:tensorflow:Layer lstm_8 will not use cuDNN kernels since it doesn't meet the criteria. It will use a generic GPU kernel as fallback when running on GPU.\n",
      "WARNING:tensorflow:Layer lstm_9 will not use cuDNN kernels since it doesn't meet the criteria. It will use a generic GPU kernel as fallback when running on GPU.\n",
      "Model: \"sequential_3\"\n",
      "_________________________________________________________________\n",
      " Layer (type)                Output Shape              Param #   \n",
      "=================================================================\n",
      " time_distributed_9 (TimeDi  (None, None, 96, 64)      128       \n",
      " stributed)                                                      \n",
      "                                                                 \n",
      " time_distributed_10 (TimeD  (None, None, 48, 64)      0         \n",
      " istributed)                                                     \n",
      "                                                                 \n",
      " time_distributed_11 (TimeD  (None, None, 3072)        0         \n",
      " istributed)                                                     \n",
      "                                                                 \n",
      " lstm_8 (LSTM)               (None, None, 50)          624600    \n",
      "                                                                 \n",
      " lstm_9 (LSTM)               (None, 25)                7600      \n",
      "                                                                 \n",
      " dense_10 (Dense)            (None, 32)                832       \n",
      "                                                                 \n",
      " dense_11 (Dense)            (None, 10)                330       \n",
      "                                                                 \n",
      "=================================================================\n",
      "Total params: 633490 (2.42 MB)\n",
      "Trainable params: 633490 (2.42 MB)\n",
      "Non-trainable params: 0 (0.00 Byte)\n",
      "_________________________________________________________________\n"
     ]
    }
   ],
   "source": [
    "model = Sequential()\n",
    "model.add(TimeDistributed(Conv1D(filters=64, kernel_size=1, activation='relu'), input_shape=(None, X_train_DL.shape[2], X_train_DL.shape[3])))\n",
    "model.add(TimeDistributed(MaxPooling1D(pool_size=2)))\n",
    "model.add(TimeDistributed(Flatten()))\n",
    "\n",
    "model.add(LSTM(50, activation='relu', return_sequences=True))\n",
    "model.add(LSTM(25, activation='relu'))\n",
    "model.add(Dense(32))\n",
    "model.add(Dense(10))\n",
    "\n",
    "model.compile(optimizer='adam', loss='mse')\n",
    "model.summary()\n"
   ]
  },
  {
   "cell_type": "code",
   "execution_count": 75,
   "metadata": {},
   "outputs": [
    {
     "name": "stdout",
     "output_type": "stream",
     "text": [
      "Epoch 1/70\n",
      "628/628 [==============================] - 8s 11ms/step - loss: 0.0096\n",
      "Epoch 2/70\n",
      "628/628 [==============================] - 7s 11ms/step - loss: 0.0050\n",
      "Epoch 3/70\n",
      "628/628 [==============================] - 7s 12ms/step - loss: 0.0047\n",
      "Epoch 4/70\n",
      "628/628 [==============================] - 7s 11ms/step - loss: 0.0045\n",
      "Epoch 5/70\n",
      "628/628 [==============================] - 7s 11ms/step - loss: 0.0044\n",
      "Epoch 6/70\n",
      "628/628 [==============================] - 7s 11ms/step - loss: 0.0042\n",
      "Epoch 7/70\n",
      "628/628 [==============================] - 7s 11ms/step - loss: 0.0041\n",
      "Epoch 8/70\n",
      "628/628 [==============================] - 7s 11ms/step - loss: 0.0040\n",
      "Epoch 9/70\n",
      "628/628 [==============================] - 7s 12ms/step - loss: 0.0039\n",
      "Epoch 10/70\n",
      "628/628 [==============================] - 7s 11ms/step - loss: 0.0038\n",
      "Epoch 11/70\n",
      "628/628 [==============================] - 7s 11ms/step - loss: 0.0037\n",
      "Epoch 12/70\n",
      "628/628 [==============================] - 7s 11ms/step - loss: 0.0036\n",
      "Epoch 13/70\n",
      "628/628 [==============================] - 7s 11ms/step - loss: 0.0036\n",
      "Epoch 14/70\n",
      "628/628 [==============================] - 7s 11ms/step - loss: 0.0035\n",
      "Epoch 15/70\n",
      "628/628 [==============================] - 7s 11ms/step - loss: 0.0035\n",
      "Epoch 16/70\n",
      "628/628 [==============================] - 7s 11ms/step - loss: 0.0034\n",
      "Epoch 17/70\n",
      "628/628 [==============================] - 7s 11ms/step - loss: 0.0034\n",
      "Epoch 18/70\n",
      "628/628 [==============================] - 7s 12ms/step - loss: 0.0033\n",
      "Epoch 19/70\n",
      "628/628 [==============================] - 7s 12ms/step - loss: 0.0033\n",
      "Epoch 20/70\n",
      "628/628 [==============================] - 7s 12ms/step - loss: 0.0033\n",
      "Epoch 21/70\n",
      "628/628 [==============================] - 8s 12ms/step - loss: 0.0032\n",
      "Epoch 22/70\n",
      "628/628 [==============================] - 7s 12ms/step - loss: 0.0032\n",
      "Epoch 23/70\n",
      "628/628 [==============================] - 7s 11ms/step - loss: 0.0032\n",
      "Epoch 24/70\n",
      "628/628 [==============================] - 7s 11ms/step - loss: 0.0031\n",
      "Epoch 25/70\n",
      "628/628 [==============================] - 8s 12ms/step - loss: 0.0031\n",
      "Epoch 26/70\n",
      "628/628 [==============================] - 7s 12ms/step - loss: 0.0031\n",
      "Epoch 27/70\n",
      "628/628 [==============================] - 8s 13ms/step - loss: 0.0030\n",
      "Epoch 28/70\n",
      "628/628 [==============================] - 7s 12ms/step - loss: 0.0030\n",
      "Epoch 29/70\n",
      "628/628 [==============================] - 7s 12ms/step - loss: 0.0030\n",
      "Epoch 30/70\n",
      "628/628 [==============================] - 7s 12ms/step - loss: 0.0029\n",
      "Epoch 31/70\n",
      "628/628 [==============================] - 7s 12ms/step - loss: 0.0029\n",
      "Epoch 32/70\n",
      "628/628 [==============================] - 7s 12ms/step - loss: 0.0029\n",
      "Epoch 33/70\n",
      "628/628 [==============================] - 7s 12ms/step - loss: 0.0028\n",
      "Epoch 34/70\n",
      "628/628 [==============================] - 7s 11ms/step - loss: 0.0028\n",
      "Epoch 35/70\n",
      "628/628 [==============================] - 7s 11ms/step - loss: 0.0028\n",
      "Epoch 36/70\n",
      "628/628 [==============================] - 7s 11ms/step - loss: 0.0027\n",
      "Epoch 37/70\n",
      "628/628 [==============================] - 7s 11ms/step - loss: 0.0027\n",
      "Epoch 38/70\n",
      "628/628 [==============================] - 7s 11ms/step - loss: 0.0027\n",
      "Epoch 39/70\n",
      "628/628 [==============================] - 7s 11ms/step - loss: 0.0026\n",
      "Epoch 40/70\n",
      "628/628 [==============================] - 7s 12ms/step - loss: 0.0026\n",
      "Epoch 41/70\n",
      "628/628 [==============================] - 7s 11ms/step - loss: 0.0026\n",
      "Epoch 42/70\n",
      "628/628 [==============================] - 7s 11ms/step - loss: 0.0026\n",
      "Epoch 43/70\n",
      "628/628 [==============================] - 7s 11ms/step - loss: 0.0025\n",
      "Epoch 44/70\n",
      "628/628 [==============================] - 7s 11ms/step - loss: 0.0025\n",
      "Epoch 45/70\n",
      "628/628 [==============================] - 7s 11ms/step - loss: 0.0025\n",
      "Epoch 46/70\n",
      "628/628 [==============================] - 7s 11ms/step - loss: 0.0025\n",
      "Epoch 47/70\n",
      "628/628 [==============================] - 7s 12ms/step - loss: 0.0025\n",
      "Epoch 48/70\n",
      "628/628 [==============================] - 8s 12ms/step - loss: 0.0024\n",
      "Epoch 49/70\n",
      "628/628 [==============================] - 8s 13ms/step - loss: 0.0024\n",
      "Epoch 50/70\n",
      "628/628 [==============================] - 7s 12ms/step - loss: 0.0024\n",
      "Epoch 51/70\n",
      "628/628 [==============================] - 7s 11ms/step - loss: 0.0024\n",
      "Epoch 52/70\n",
      "628/628 [==============================] - 7s 11ms/step - loss: 0.0024\n",
      "Epoch 53/70\n",
      "628/628 [==============================] - 7s 11ms/step - loss: 0.0023\n",
      "Epoch 54/70\n",
      "628/628 [==============================] - 7s 11ms/step - loss: 0.0023\n",
      "Epoch 55/70\n",
      "628/628 [==============================] - 7s 11ms/step - loss: 0.0023\n",
      "Epoch 56/70\n",
      "628/628 [==============================] - 7s 11ms/step - loss: 0.0023\n",
      "Epoch 57/70\n",
      "628/628 [==============================] - 7s 11ms/step - loss: 0.0023\n",
      "Epoch 58/70\n",
      "628/628 [==============================] - 7s 12ms/step - loss: 0.0023\n",
      "Epoch 59/70\n",
      "628/628 [==============================] - 7s 11ms/step - loss: 0.0022\n",
      "Epoch 60/70\n",
      "628/628 [==============================] - 7s 11ms/step - loss: 0.0022\n",
      "Epoch 61/70\n",
      "628/628 [==============================] - 7s 11ms/step - loss: 0.0022\n",
      "Epoch 62/70\n",
      "628/628 [==============================] - 7s 11ms/step - loss: 0.0022\n",
      "Epoch 63/70\n",
      "628/628 [==============================] - 7s 11ms/step - loss: 0.0022\n",
      "Epoch 64/70\n",
      "628/628 [==============================] - 7s 12ms/step - loss: 0.0022\n",
      "Epoch 65/70\n",
      "628/628 [==============================] - 7s 11ms/step - loss: 0.0022\n",
      "Epoch 66/70\n",
      "628/628 [==============================] - 7s 11ms/step - loss: 0.0022\n",
      "Epoch 67/70\n",
      "628/628 [==============================] - 7s 11ms/step - loss: 0.0021\n",
      "Epoch 68/70\n",
      "628/628 [==============================] - 7s 11ms/step - loss: 0.0021\n",
      "Epoch 69/70\n",
      "628/628 [==============================] - 8s 12ms/step - loss: 0.0021\n",
      "Epoch 70/70\n",
      "628/628 [==============================] - 8s 13ms/step - loss: 0.0021\n"
     ]
    },
    {
     "data": {
      "image/png": "[encoded data removed]",
      "text/plain": [
       "<Figure size 640x480 with 1 Axes>"
      ]
     },
     "metadata": {},
     "output_type": "display_data"
    }
   ],
   "source": [
    "with tf.device(\"/CPU:0\"):\n",
    "    history = model.fit(\n",
    "        X_train_DL,\n",
    "        y_train,\n",
    "        verbose=1,\n",
    "        epochs=70,\n",
    "        batch_size=50,\n",
    "    )\n",
    "\n",
    "plt.plot(history.history['loss'], label='Training Loss')\n",
    "plt.xlabel('Epochs')\n",
    "plt.ylabel('Loss')\n",
    "plt.legend()\n",
    "plt.show()"
   ]
  },
  {
   "cell_type": "code",
   "execution_count": 76,
   "metadata": {},
   "outputs": [
    {
     "name": "stdout",
     "output_type": "stream",
     "text": [
      "108/108 [==============================] - 1s 8ms/step\n",
      "--------------------------------------------------------------------------------------\n",
      "mse: 0.0048\n",
      "mae: 0.0448\n",
      "mape: 0.1189\n",
      "--------------------------------------------------------------------------------------\n"
     ]
    }
   ],
   "source": [
    "y_pred = model.predict(X_test_DL)\n",
    "\n",
    "mse = mean_squared_error(y_test, y_pred)\n",
    "mae = mean_absolute_error(y_test, y_pred)\n",
    "mape = mean_absolute_percentage_error(y_test, y_pred)\n",
    "\n",
    "print(\"-\" * 86)\n",
    "print(f'mse: {mse:.4f}')\n",
    "print(f'mae: {mae:.4f}')\n",
    "print(f'mape: {mape:.4f}')\n",
    "print(\"-\" * 86)"
   ]
  },
  {
   "cell_type": "code",
   "execution_count": 77,
   "metadata": {},
   "outputs": [],
   "source": [
    "pred_data = scaler.inverse_transform(y_pred)\n",
    "actual_data = scaler.inverse_transform(y_test)\n",
    "previous_data = scaler.inverse_transform(X_test)\n",
    "for i in range(actual_data.shape[0]):\n",
    "    plt.figure(figsize=(12, 6))\n",
    "    X1 = np.concatenate((X_test_time[i][-24:], y_test_time[i]))\n",
    "    y1 = np.concatenate((previous_data[i][-24:], actual_data[i]))\n",
    "    X2 = y_test_time[i]\n",
    "    y_p = pred_data[i]\n",
    "    y_a = actual_data[i]\n",
    "    Xh = np.full(30, X1[len(X1)-10])\n",
    "    yh = np.arange(0, 30, 1)\n",
    "    plt.title(f\"Time Series {i+1} prediction\")\n",
    "    plt.plot(X1, y1, '--', color='#98afc7')\n",
    "    plt.plot(X2, y_p, label='Predict')\n",
    "    plt.plot(X2, y_a, label='Actual')\n",
    "    plt.plot(Xh, yh, color='#4863a0', alpha=0.5)\n",
    "    plt.ylim(0, 30)\n",
    "    plt.xlabel('Time step')\n",
    "    plt.ylabel('Usage (kWh)')\n",
    "    plt.legend(loc='upper left', bbox_to_anchor=(1, 1))\n",
    "    plt.tight_layout()\n",
    "    plt.savefig(TEST_PLOT_DIR+f\"Filtered_Time_Series_{i+1}.png\")\n",
    "    plt.close()"
   ]
  }
 ],
 "metadata": {
  "kernelspec": {
   "display_name": "tf",
   "language": "python",
   "name": "python3"
  },
  "language_info": {
   "codemirror_mode": {
    "name": "ipython",
    "version": 3
   },
   "file_extension": ".py",
   "mimetype": "text/x-python",
   "name": "python",
   "nbconvert_exporter": "python",
   "pygments_lexer": "ipython3",
   "version": "3.11.8"
  }
 },
 "nbformat": 4,
 "nbformat_minor": 2
}
